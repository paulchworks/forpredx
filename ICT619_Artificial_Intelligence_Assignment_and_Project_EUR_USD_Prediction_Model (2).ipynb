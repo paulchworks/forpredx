{
 "cells": [
  {
   "cell_type": "markdown",
   "metadata": {
    "id": "4NS62FKc-y8e"
   },
   "source": [
    "**ICT619 Artificial Intelligence Assignment and Project - EUR/USD Prediction Model**  \n",
    "\n",
    "*   34165578 CHOW KUM SIONG (PAUL) \n",
    "*   34298294 NYAN WIN MYINT"
   ]
  },
  {
   "cell_type": "code",
   "execution_count": 1,
   "metadata": {
    "id": "rzqrp9ZxHrVb"
   },
   "outputs": [],
   "source": [
    "import sys\n",
    "\n",
    "# Confirm that we're using Python 3\n",
    "assert sys.version_info.major == 3, 'Oops, not running Python 3. Use Runtime > Change runtime type'"
   ]
  },
  {
   "cell_type": "code",
   "execution_count": 2,
   "metadata": {
    "colab": {
     "base_uri": "https://localhost:8080/"
    },
    "id": "F0rFreibHwLx",
    "outputId": "99f96678-3f8d-4461-f3d3-2dd9c02a044c"
   },
   "outputs": [
    {
     "name": "stderr",
     "output_type": "stream",
     "text": [
      "c:\\users\\greyw\\appdata\\local\\programs\\python\\python39\\lib\\site-packages\\scipy\\__init__.py:146: UserWarning: A NumPy version >=1.16.5 and <1.23.0 is required for this version of SciPy (detected version 1.23.0\n",
      "  warnings.warn(f\"A NumPy version >={np_minversion} and <{np_maxversion}\"\n"
     ]
    },
    {
     "name": "stdout",
     "output_type": "stream",
     "text": [
      "TensorFlow version: 2.8.0\n"
     ]
    }
   ],
   "source": [
    "# TensorFlow and tf.keras\n",
    "#print(\"Installing dependencies for Colab environment\")\n",
    "#!pip install -Uq grpcio==1.26.0\n",
    "\n",
    "import tensorflow as tf\n",
    "from tensorflow import keras\n",
    "import numpy as np\n",
    "import matplotlib.pyplot as plt\n",
    "import os, re, time, json\n",
    "import subprocess\n",
    "\n",
    "print('TensorFlow version: {}'.format(tf.__version__))"
   ]
  },
  {
   "cell_type": "code",
   "execution_count": 3,
   "metadata": {
    "id": "VRH0IAtswd9s"
   },
   "outputs": [],
   "source": [
    "#from io import StringIO\n",
    "import requests\n",
    "import json\n",
    "import pandas as pd\n",
    "import numpy as np\n",
    "import types\n"
   ]
  },
  {
   "cell_type": "markdown",
   "metadata": {
    "id": "9e0p-kw63Gy0"
   },
   "source": [
    "# Code to read csv file into Colaboratory:\n",
    "!pip install -U -q PyDrive\n",
    "from pydrive.auth import GoogleAuth\n",
    "from pydrive.drive import GoogleDrive\n",
    "from google.colab import auth\n",
    "from oauth2client.client import GoogleCredentials\n",
    "# Authenticate and create the PyDrive client.\n",
    "auth.authenticate_user()\n",
    "gauth = GoogleAuth()\n",
    "gauth.credentials = GoogleCredentials.get_application_default()\n",
    "drive = GoogleDrive(gauth)"
   ]
  },
  {
   "cell_type": "markdown",
   "metadata": {
    "id": "siVwdgnN28R9"
   },
   "source": [
    "link = 'https://drive.google.com/open?id=1KwyaeNvkGAVM7w6qGbedgFSlgZTu1hvG'"
   ]
  },
  {
   "cell_type": "markdown",
   "metadata": {
    "colab": {
     "base_uri": "https://localhost:8080/"
    },
    "id": "5JtyiXaY4UJJ",
    "outputId": "6a639577-3922-4521-cfb5-423b7b6508f4"
   },
   "source": [
    "fluff, id = link.split('=')\n",
    "print (id) # Verify that id after '='"
   ]
  },
  {
   "cell_type": "code",
   "execution_count": 4,
   "metadata": {
    "id": "rDuW_rve4YXR"
   },
   "outputs": [],
   "source": [
    "#downloaded = drive.CreateFile({'id':id}) \n",
    "#downloaded.GetContentFile('220524-220607_EURUSD_historical_data.csv')  \n",
    "df_EURUSD = pd.read_csv('220524-220607_EURUSD_historical_data.csv')"
   ]
  },
  {
   "cell_type": "code",
   "execution_count": 5,
   "metadata": {
    "colab": {
     "base_uri": "https://localhost:8080/",
     "height": 693
    },
    "id": "ibg3KeFx4uP7",
    "outputId": "920eaaf3-7dea-4ce5-d8dd-758273653a8f"
   },
   "outputs": [
    {
     "name": "stdout",
     "output_type": "stream",
     "text": [
      "(932, 5)\n"
     ]
    },
    {
     "data": {
      "text/html": [
       "<div>\n",
       "<style scoped>\n",
       "    .dataframe tbody tr th:only-of-type {\n",
       "        vertical-align: middle;\n",
       "    }\n",
       "\n",
       "    .dataframe tbody tr th {\n",
       "        vertical-align: top;\n",
       "    }\n",
       "\n",
       "    .dataframe thead th {\n",
       "        text-align: right;\n",
       "    }\n",
       "</style>\n",
       "<table border=\"1\" class=\"dataframe\">\n",
       "  <thead>\n",
       "    <tr style=\"text-align: right;\">\n",
       "      <th></th>\n",
       "      <th>DATE_TIME</th>\n",
       "      <th>HIGH</th>\n",
       "      <th>LOW</th>\n",
       "      <th>OPEN</th>\n",
       "      <th>CLOSE</th>\n",
       "    </tr>\n",
       "  </thead>\n",
       "  <tbody>\n",
       "    <tr>\n",
       "      <th>0</th>\n",
       "      <td>5/24/2022 7:15</td>\n",
       "      <td>1.07325</td>\n",
       "      <td>1.07162</td>\n",
       "      <td>1.07238</td>\n",
       "      <td>1.07236</td>\n",
       "    </tr>\n",
       "    <tr>\n",
       "      <th>1</th>\n",
       "      <td>5/24/2022 7:30</td>\n",
       "      <td>1.07345</td>\n",
       "      <td>1.07196</td>\n",
       "      <td>1.07240</td>\n",
       "      <td>1.07337</td>\n",
       "    </tr>\n",
       "    <tr>\n",
       "      <th>2</th>\n",
       "      <td>5/24/2022 7:45</td>\n",
       "      <td>1.07362</td>\n",
       "      <td>1.07248</td>\n",
       "      <td>1.07338</td>\n",
       "      <td>1.07309</td>\n",
       "    </tr>\n",
       "    <tr>\n",
       "      <th>3</th>\n",
       "      <td>5/24/2022 8:00</td>\n",
       "      <td>1.07336</td>\n",
       "      <td>1.07167</td>\n",
       "      <td>1.07306</td>\n",
       "      <td>1.07183</td>\n",
       "    </tr>\n",
       "    <tr>\n",
       "      <th>4</th>\n",
       "      <td>5/24/2022 8:15</td>\n",
       "      <td>1.07184</td>\n",
       "      <td>1.07055</td>\n",
       "      <td>1.07181</td>\n",
       "      <td>1.07121</td>\n",
       "    </tr>\n",
       "    <tr>\n",
       "      <th>5</th>\n",
       "      <td>5/24/2022 8:30</td>\n",
       "      <td>1.07154</td>\n",
       "      <td>1.07012</td>\n",
       "      <td>1.07115</td>\n",
       "      <td>1.07051</td>\n",
       "    </tr>\n",
       "    <tr>\n",
       "      <th>6</th>\n",
       "      <td>5/24/2022 8:45</td>\n",
       "      <td>1.07178</td>\n",
       "      <td>1.07033</td>\n",
       "      <td>1.07051</td>\n",
       "      <td>1.07046</td>\n",
       "    </tr>\n",
       "    <tr>\n",
       "      <th>7</th>\n",
       "      <td>5/24/2022 9:00</td>\n",
       "      <td>1.07152</td>\n",
       "      <td>1.07042</td>\n",
       "      <td>1.07047</td>\n",
       "      <td>1.07144</td>\n",
       "    </tr>\n",
       "    <tr>\n",
       "      <th>8</th>\n",
       "      <td>5/24/2022 9:15</td>\n",
       "      <td>1.07193</td>\n",
       "      <td>1.07138</td>\n",
       "      <td>1.07148</td>\n",
       "      <td>1.07144</td>\n",
       "    </tr>\n",
       "    <tr>\n",
       "      <th>9</th>\n",
       "      <td>5/24/2022 9:30</td>\n",
       "      <td>1.07150</td>\n",
       "      <td>1.07054</td>\n",
       "      <td>1.07147</td>\n",
       "      <td>1.07085</td>\n",
       "    </tr>\n",
       "    <tr>\n",
       "      <th>10</th>\n",
       "      <td>5/24/2022 9:45</td>\n",
       "      <td>1.07130</td>\n",
       "      <td>1.07061</td>\n",
       "      <td>1.07084</td>\n",
       "      <td>1.07114</td>\n",
       "    </tr>\n",
       "    <tr>\n",
       "      <th>11</th>\n",
       "      <td>5/24/2022 10:00</td>\n",
       "      <td>1.07199</td>\n",
       "      <td>1.07108</td>\n",
       "      <td>1.07117</td>\n",
       "      <td>1.07183</td>\n",
       "    </tr>\n",
       "    <tr>\n",
       "      <th>12</th>\n",
       "      <td>5/24/2022 10:15</td>\n",
       "      <td>1.07194</td>\n",
       "      <td>1.07141</td>\n",
       "      <td>1.07178</td>\n",
       "      <td>1.07156</td>\n",
       "    </tr>\n",
       "    <tr>\n",
       "      <th>13</th>\n",
       "      <td>5/24/2022 10:30</td>\n",
       "      <td>1.07171</td>\n",
       "      <td>1.07075</td>\n",
       "      <td>1.07159</td>\n",
       "      <td>1.07110</td>\n",
       "    </tr>\n",
       "    <tr>\n",
       "      <th>14</th>\n",
       "      <td>5/24/2022 10:45</td>\n",
       "      <td>1.07133</td>\n",
       "      <td>1.07046</td>\n",
       "      <td>1.07108</td>\n",
       "      <td>1.07093</td>\n",
       "    </tr>\n",
       "    <tr>\n",
       "      <th>15</th>\n",
       "      <td>5/24/2022 11:00</td>\n",
       "      <td>1.07107</td>\n",
       "      <td>1.07033</td>\n",
       "      <td>1.07095</td>\n",
       "      <td>1.07037</td>\n",
       "    </tr>\n",
       "    <tr>\n",
       "      <th>16</th>\n",
       "      <td>5/24/2022 11:15</td>\n",
       "      <td>1.07106</td>\n",
       "      <td>1.07022</td>\n",
       "      <td>1.07039</td>\n",
       "      <td>1.07091</td>\n",
       "    </tr>\n",
       "    <tr>\n",
       "      <th>17</th>\n",
       "      <td>5/24/2022 11:30</td>\n",
       "      <td>1.07279</td>\n",
       "      <td>1.07090</td>\n",
       "      <td>1.07091</td>\n",
       "      <td>1.07175</td>\n",
       "    </tr>\n",
       "    <tr>\n",
       "      <th>18</th>\n",
       "      <td>5/24/2022 11:45</td>\n",
       "      <td>1.07264</td>\n",
       "      <td>1.07117</td>\n",
       "      <td>1.07171</td>\n",
       "      <td>1.07145</td>\n",
       "    </tr>\n",
       "    <tr>\n",
       "      <th>19</th>\n",
       "      <td>5/24/2022 12:00</td>\n",
       "      <td>1.07228</td>\n",
       "      <td>1.07147</td>\n",
       "      <td>1.07147</td>\n",
       "      <td>1.07200</td>\n",
       "    </tr>\n",
       "  </tbody>\n",
       "</table>\n",
       "</div>"
      ],
      "text/plain": [
       "          DATE_TIME     HIGH      LOW     OPEN    CLOSE\n",
       "0    5/24/2022 7:15  1.07325  1.07162  1.07238  1.07236\n",
       "1    5/24/2022 7:30  1.07345  1.07196  1.07240  1.07337\n",
       "2    5/24/2022 7:45  1.07362  1.07248  1.07338  1.07309\n",
       "3    5/24/2022 8:00  1.07336  1.07167  1.07306  1.07183\n",
       "4    5/24/2022 8:15  1.07184  1.07055  1.07181  1.07121\n",
       "5    5/24/2022 8:30  1.07154  1.07012  1.07115  1.07051\n",
       "6    5/24/2022 8:45  1.07178  1.07033  1.07051  1.07046\n",
       "7    5/24/2022 9:00  1.07152  1.07042  1.07047  1.07144\n",
       "8    5/24/2022 9:15  1.07193  1.07138  1.07148  1.07144\n",
       "9    5/24/2022 9:30  1.07150  1.07054  1.07147  1.07085\n",
       "10   5/24/2022 9:45  1.07130  1.07061  1.07084  1.07114\n",
       "11  5/24/2022 10:00  1.07199  1.07108  1.07117  1.07183\n",
       "12  5/24/2022 10:15  1.07194  1.07141  1.07178  1.07156\n",
       "13  5/24/2022 10:30  1.07171  1.07075  1.07159  1.07110\n",
       "14  5/24/2022 10:45  1.07133  1.07046  1.07108  1.07093\n",
       "15  5/24/2022 11:00  1.07107  1.07033  1.07095  1.07037\n",
       "16  5/24/2022 11:15  1.07106  1.07022  1.07039  1.07091\n",
       "17  5/24/2022 11:30  1.07279  1.07090  1.07091  1.07175\n",
       "18  5/24/2022 11:45  1.07264  1.07117  1.07171  1.07145\n",
       "19  5/24/2022 12:00  1.07228  1.07147  1.07147  1.07200"
      ]
     },
     "execution_count": 5,
     "metadata": {},
     "output_type": "execute_result"
    }
   ],
   "source": [
    "df_EURUSD = df_EURUSD[df_EURUSD.CLOSE != \".\"]\n",
    "print(df_EURUSD.shape)\n",
    "df_EURUSD.head(20)"
   ]
  },
  {
   "cell_type": "code",
   "execution_count": 6,
   "metadata": {
    "colab": {
     "base_uri": "https://localhost:8080/",
     "height": 175
    },
    "id": "0Z2ixWH4hUn1",
    "outputId": "39bdb2fe-8bac-4be2-cfcf-97006bedcc74"
   },
   "outputs": [
    {
     "data": {
      "text/html": [
       "<div>\n",
       "<style scoped>\n",
       "    .dataframe tbody tr th:only-of-type {\n",
       "        vertical-align: middle;\n",
       "    }\n",
       "\n",
       "    .dataframe tbody tr th {\n",
       "        vertical-align: top;\n",
       "    }\n",
       "\n",
       "    .dataframe thead th {\n",
       "        text-align: right;\n",
       "    }\n",
       "</style>\n",
       "<table border=\"1\" class=\"dataframe\">\n",
       "  <thead>\n",
       "    <tr style=\"text-align: right;\">\n",
       "      <th></th>\n",
       "      <th>count</th>\n",
       "      <th>mean</th>\n",
       "      <th>std</th>\n",
       "      <th>min</th>\n",
       "      <th>25%</th>\n",
       "      <th>50%</th>\n",
       "      <th>75%</th>\n",
       "      <th>max</th>\n",
       "    </tr>\n",
       "  </thead>\n",
       "  <tbody>\n",
       "    <tr>\n",
       "      <th>HIGH</th>\n",
       "      <td>932.0</td>\n",
       "      <td>1.072236</td>\n",
       "      <td>0.003150</td>\n",
       "      <td>1.06451</td>\n",
       "      <td>1.070298</td>\n",
       "      <td>1.072620</td>\n",
       "      <td>1.074505</td>\n",
       "      <td>1.07867</td>\n",
       "    </tr>\n",
       "    <tr>\n",
       "      <th>LOW</th>\n",
       "      <td>932.0</td>\n",
       "      <td>1.071472</td>\n",
       "      <td>0.003232</td>\n",
       "      <td>1.06275</td>\n",
       "      <td>1.069380</td>\n",
       "      <td>1.071885</td>\n",
       "      <td>1.073547</td>\n",
       "      <td>1.07837</td>\n",
       "    </tr>\n",
       "    <tr>\n",
       "      <th>OPEN</th>\n",
       "      <td>932.0</td>\n",
       "      <td>1.071858</td>\n",
       "      <td>0.003199</td>\n",
       "      <td>1.06284</td>\n",
       "      <td>1.069850</td>\n",
       "      <td>1.072285</td>\n",
       "      <td>1.074012</td>\n",
       "      <td>1.07862</td>\n",
       "    </tr>\n",
       "    <tr>\n",
       "      <th>CLOSE</th>\n",
       "      <td>932.0</td>\n",
       "      <td>1.071858</td>\n",
       "      <td>0.003198</td>\n",
       "      <td>1.06281</td>\n",
       "      <td>1.069835</td>\n",
       "      <td>1.072280</td>\n",
       "      <td>1.074012</td>\n",
       "      <td>1.07865</td>\n",
       "    </tr>\n",
       "  </tbody>\n",
       "</table>\n",
       "</div>"
      ],
      "text/plain": [
       "       count      mean       std      min       25%       50%       75%  \\\n",
       "HIGH   932.0  1.072236  0.003150  1.06451  1.070298  1.072620  1.074505   \n",
       "LOW    932.0  1.071472  0.003232  1.06275  1.069380  1.071885  1.073547   \n",
       "OPEN   932.0  1.071858  0.003199  1.06284  1.069850  1.072285  1.074012   \n",
       "CLOSE  932.0  1.071858  0.003198  1.06281  1.069835  1.072280  1.074012   \n",
       "\n",
       "           max  \n",
       "HIGH   1.07867  \n",
       "LOW    1.07837  \n",
       "OPEN   1.07862  \n",
       "CLOSE  1.07865  "
      ]
     },
     "execution_count": 6,
     "metadata": {},
     "output_type": "execute_result"
    }
   ],
   "source": [
    "df_EURUSD.describe().transpose()"
   ]
  },
  {
   "cell_type": "code",
   "execution_count": 7,
   "metadata": {
    "colab": {
     "base_uri": "https://localhost:8080/",
     "height": 295
    },
    "id": "oQlW4-PL5vkD",
    "outputId": "2a60b58d-418e-4af2-858b-f8ebdf7d7086"
   },
   "outputs": [
    {
     "data": {
      "image/png": "[encoded data removed]",
      "text/plain": [
       "<Figure size 432x288 with 1 Axes>"
      ]
     },
     "metadata": {
      "needs_background": "light"
     },
     "output_type": "display_data"
    }
   ],
   "source": [
    "import matplotlib.pyplot as plt\n",
    "df_EURUSD_plot = df_EURUSD.iloc[:,1:2].values.astype(float)\n",
    "# Visualising the Data\n",
    "plt.plot(df_EURUSD.CLOSE, color = 'red', label = 'EUR/USD')\n",
    "plt.title('EUR/USD Historical Data')\n",
    "plt.xlabel('Time (15 min)')\n",
    "plt.ylabel('EUR/USD')\n",
    "plt.legend()\n",
    "plt.show()"
   ]
  },
  {
   "cell_type": "code",
   "execution_count": 8,
   "metadata": {
    "id": "BlQINAHL5yO_"
   },
   "outputs": [],
   "source": [
    "#import packages\n",
    "import numpy as np\n",
    "import pandas as pd\n",
    "from keras.preprocessing import sequence\n",
    "from keras.models import load_model"
   ]
  },
  {
   "cell_type": "code",
   "execution_count": 9,
   "metadata": {
    "id": "8Iq7Tt1F51PN"
   },
   "outputs": [],
   "source": [
    "# defining the batch size and number of epochs\n",
    "# timesteps must be well within the number of entries in the dataset\n",
    "# try reduce the no of epochs at later stage\n",
    "#default parameters to start with:\n",
    "#batch_size = 64\n",
    "#epochs = 10\n",
    "#timesteps = 20\n",
    "\n",
    "batch_size = 10\n",
    "epochs = 300\n",
    "timesteps = 5"
   ]
  },
  {
   "cell_type": "markdown",
   "metadata": {
    "id": "z-biB9wy5921"
   },
   "source": [
    "<h1> Batch-size and trainings-set size </h1>\n",
    "\n",
    "With stateful LSTMs the trainings-set size must be divisible without remainder by the batch-size (modulo = 0)"
   ]
  },
  {
   "cell_type": "code",
   "execution_count": 10,
   "metadata": {
    "id": "z4ownX4L6EST"
   },
   "outputs": [],
   "source": [
    "def get_train_length(dataset, batch_size, test_percent):\n",
    "    # substract test_percent to be excluded from training, reserved for testset\n",
    "    length = len(dataset)\n",
    "    length *= 1 - test_percent\n",
    "    train_length_values = []\n",
    "    for x in range(int(length) - 100,int(length)): \n",
    "        modulo=x%batch_size\n",
    "        if (modulo == 0):\n",
    "            train_length_values.append(x)\n",
    "            print(x)\n",
    "    return (max(train_length_values))"
   ]
  },
  {
   "cell_type": "code",
   "execution_count": 11,
   "metadata": {
    "colab": {
     "base_uri": "https://localhost:8080/"
    },
    "id": "MZ0hTTlQ6RVa",
    "outputId": "206fec6e-e46b-4a35-bc04-052913546ba0"
   },
   "outputs": [
    {
     "name": "stdout",
     "output_type": "stream",
     "text": [
      "740\n",
      "750\n",
      "760\n",
      "770\n",
      "780\n",
      "790\n",
      "800\n",
      "810\n",
      "820\n",
      "830\n",
      "830\n"
     ]
    }
   ],
   "source": [
    "length = get_train_length(df_EURUSD, batch_size, 0.1)\n",
    "print(length)"
   ]
  },
  {
   "cell_type": "markdown",
   "metadata": {
    "id": "8qVt1PMGLXPf"
   },
   "source": [
    "If timesteps is 5, the LSTM has learned from 5 timesteps then predicts the next 5 timesteps in the future, the whole sliding window slides one timestep to the right, and the whole procedure restarts. In this case, the timestep = 5, where T-5 = current 15-min window."
   ]
  },
  {
   "cell_type": "code",
   "execution_count": 12,
   "metadata": {
    "colab": {
     "base_uri": "https://localhost:8080/"
    },
    "id": "0k9RKJN46Tdk",
    "outputId": "7524deef-bd43-4cef-ce0f-232a85a30b46"
   },
   "outputs": [
    {
     "data": {
      "text/plain": [
       "(840, 1)"
      ]
     },
     "execution_count": 12,
     "metadata": {},
     "output_type": "execute_result"
    }
   ],
   "source": [
    "#Adding timesteps * 2\n",
    "upper_train = length + timesteps*2\n",
    "df_EURUSD_train = df_EURUSD[0:upper_train]\n",
    "training_set = df_EURUSD_train.iloc[:,1:2].values\n",
    "training_set.shape"
   ]
  },
  {
   "cell_type": "code",
   "execution_count": 13,
   "metadata": {
    "colab": {
     "base_uri": "https://localhost:8080/"
    },
    "id": "dDM02EM36W-y",
    "outputId": "3c5b6636-7550-41b7-ed8a-dd41d7ab9f21"
   },
   "outputs": [
    {
     "data": {
      "text/plain": [
       "(840, 1)"
      ]
     },
     "execution_count": 13,
     "metadata": {},
     "output_type": "execute_result"
    }
   ],
   "source": [
    "# Feature Scaling\n",
    "#scale between 0 and 1. the weights are easier to find.\n",
    "from sklearn.preprocessing import MinMaxScaler\n",
    "sc = MinMaxScaler(feature_range = (0, 1))\n",
    "training_set_scaled = sc.fit_transform(np.float64(training_set))\n",
    "training_set_scaled.shape"
   ]
  },
  {
   "cell_type": "markdown",
   "metadata": {
    "id": "tjfvZ_ppMIXQ"
   },
   "source": [
    "1. Input our data in the form of a 3D array to the LSTM model. \n",
    "2. Create data in 5 timesteps before using numpy to convert it into an array. "
   ]
  },
  {
   "cell_type": "code",
   "execution_count": 14,
   "metadata": {
    "colab": {
     "base_uri": "https://localhost:8080/"
    },
    "id": "mlIAIaDc8iHe",
    "outputId": "7917e598-0b7e-4828-89f5-13c68cdff2ed"
   },
   "outputs": [
    {
     "name": "stdout",
     "output_type": "stream",
     "text": [
      "835\n",
      "830\n",
      "830\n",
      "[array([0.61723164, 0.63135593, 0.64336158, 0.625     , 0.51765537]), array([0.63135593, 0.64336158, 0.625     , 0.51765537, 0.49646893])]\n",
      "(830, 5)\n",
      "[array([0.49646893, 0.51341808, 0.4950565 , 0.5240113 , 0.49364407]), array([0.51341808, 0.4950565 , 0.5240113 , 0.49364407, 0.47951977])]\n",
      "(830, 5)\n"
     ]
    }
   ],
   "source": [
    "X_train = []\n",
    "y_train = []\n",
    "\n",
    "# Creating a data structure with n timesteps\n",
    "\n",
    "print(length + timesteps)\n",
    "for i in range(timesteps, length + timesteps): \n",
    "    X_train.append(training_set_scaled[i-timesteps:i,0])\n",
    "    y_train.append(training_set_scaled[i:i+timesteps,0])\n",
    "\n",
    "print(len(X_train))\n",
    "print(len(y_train))\n",
    "#create X_train matrix\n",
    "#5 items per array (timestep) \n",
    "print(X_train[0:2])\n",
    "print(np.array(X_train).shape)\n",
    "#create Y_train matrix\n",
    "#5 items per array (timestep) \n",
    "print(y_train[0:2])\n",
    "print(np.array(y_train).shape)"
   ]
  },
  {
   "cell_type": "markdown",
   "metadata": {
    "id": "JSFZLAPnM12J"
   },
   "source": [
    "3.Convert the data into a 3D array with X_train samples, 5 timestamps, and one feature at each step."
   ]
  },
  {
   "cell_type": "code",
   "execution_count": 15,
   "metadata": {
    "colab": {
     "base_uri": "https://localhost:8080/"
    },
    "id": "QNMvVezz8l5G",
    "outputId": "f4509b43-7815-4922-eb02-80e69463b270"
   },
   "outputs": [
    {
     "name": "stdout",
     "output_type": "stream",
     "text": [
      "(830, 5, 1)\n",
      "(830, 5, 1)\n"
     ]
    }
   ],
   "source": [
    "# Reshaping\n",
    "X_train, y_train = np.array(X_train), np.array(y_train)\n",
    "X_train = np.reshape(X_train, (X_train.shape[0], X_train.shape[1], 1))\n",
    "y_train = np.reshape(y_train, (y_train.shape[0], y_train.shape[1], 1))\n",
    "print(X_train.shape)\n",
    "print(y_train.shape)"
   ]
  },
  {
   "cell_type": "code",
   "execution_count": 16,
   "metadata": {
    "id": "osTC7uhp8pSn"
   },
   "outputs": [],
   "source": [
    "# Building the LSTM\n",
    "# Importing the Keras libraries and packages\n",
    "\n",
    "from keras.layers import Dense\n",
    "from keras.layers import Input, LSTM\n",
    "from keras.models import Model\n",
    "import h5py"
   ]
  },
  {
   "cell_type": "markdown",
   "metadata": {
    "id": "gsj0RnlLOxO9"
   },
   "source": [
    "The LSTM layer is added with the following arguments: 10 units is the dimensionality of the output space, return_sequences=True is necessary for stacking LSTM layers so the consequent LSTM layer has a three-dimensional sequence input, and input_1_mae is the shape of the training dataset. Compiled our model using the Adam optimizer and set MAE as loss function. "
   ]
  },
  {
   "cell_type": "code",
   "execution_count": 17,
   "metadata": {
    "colab": {
     "base_uri": "https://localhost:8080/"
    },
    "id": "24pKwn9u8riV",
    "outputId": "58da3449-0dce-4c17-92d1-470d921bd992"
   },
   "outputs": [
    {
     "name": "stdout",
     "output_type": "stream",
     "text": [
      "Model: \"model\"\n",
      "_________________________________________________________________\n",
      " Layer (type)                Output Shape              Param #   \n",
      "=================================================================\n",
      " input_1 (InputLayer)        [(10, 5, 1)]              0         \n",
      "                                                                 \n",
      " lstm (LSTM)                 (10, 5, 10)               480       \n",
      "                                                                 \n",
      " lstm_1 (LSTM)               (10, 5, 10)               840       \n",
      "                                                                 \n",
      " dense (Dense)               (10, 5, 1)                11        \n",
      "                                                                 \n",
      "=================================================================\n",
      "Total params: 1,331\n",
      "Trainable params: 1,331\n",
      "Non-trainable params: 0\n",
      "_________________________________________________________________\n"
     ]
    }
   ],
   "source": [
    "# Initialising the LSTM Model with MAE Loss-Function\n",
    "# Using Functional API\n",
    "\n",
    "inputs_1_mae = Input(batch_shape=(batch_size,timesteps,1))\n",
    "#each layer is the input of the next layer\n",
    "lstm_1_mae = LSTM(10, stateful=True, return_sequences=True)(inputs_1_mae)\n",
    "lstm_2_mae = LSTM(10, stateful=True, return_sequences=True)(lstm_1_mae)\n",
    "\n",
    "output_1_mae = Dense(units = 1)(lstm_2_mae)\n",
    "\n",
    "regressor_mae = Model(inputs=inputs_1_mae, outputs = output_1_mae)\n",
    "\n",
    "#adam is fast starting off and then gets slower and more precise\n",
    "#mae -> mean absolute error loss function\n",
    "regressor_mae.compile(optimizer='adam', loss = 'mae')\n",
    "regressor_mae.summary()"
   ]
  },
  {
   "cell_type": "code",
   "execution_count": 18,
   "metadata": {
    "id": "c6L2uBl08y2R"
   },
   "outputs": [],
   "source": [
    "import tensorflow as tf\n",
    "from keras import backend as K\n",
    "\n",
    "K.set_session(K.tf.compat.v1.Session(config=K.tf.compat.v1.ConfigProto(intra_op_parallelism_threads=1, inter_op_parallelism_threads=1)))"
   ]
  },
  {
   "cell_type": "markdown",
   "metadata": {
    "id": "A7tlTHNP894l"
   },
   "source": [
    "To decide how to handle the memory each LSTM Cell has :\n",
    "\n",
    "input (what to let in),\n",
    "forget (what to forget) and\n",
    "output (what to write to the output) LSTM Cell State is its memory LSTM Hidden State is equivalent to the Cell output: lstm_hidden_state_size (number of neurons = memory cells) = lstm_outputs_size Parameters:\n",
    "weights for the inputs (lstm_inputs_size)\n",
    "weights for the outputs (lstm_outputs_size)\n",
    "bias variable Result from previous point - for all 3 Gates and for Cell State ( = 4)\n",
    "\n",
    "\\begin{equation}\n",
    "\\textbf{PARAMETERS} = \\textbf4 \\times \\textbf{ LSTM outputs size} \\times (\\textbf{weights LSTM inputs size} + \\textbf{weights LSTM outputs size} + 1 \\textbf{ bias variable}) \\end{equation}"
   ]
  },
  {
   "cell_type": "code",
   "execution_count": 19,
   "metadata": {
    "colab": {
     "base_uri": "https://localhost:8080/"
    },
    "id": "z4tQYcoJ82CJ",
    "outputId": "83868c91-0356-44d6-ba33-1599cbc2e632"
   },
   "outputs": [
    {
     "name": "stdout",
     "output_type": "stream",
     "text": [
      "480\n"
     ]
    }
   ],
   "source": [
    "# 1st LSTM Layer\n",
    "parameters = 4 * 10 * (1 + 10 + 1)\n",
    "print(parameters)"
   ]
  },
  {
   "cell_type": "code",
   "execution_count": 20,
   "metadata": {
    "colab": {
     "base_uri": "https://localhost:8080/"
    },
    "id": "9t80xb7-9KqN",
    "outputId": "58c37e92-9ed7-4c06-a6af-bfcb0719d296"
   },
   "outputs": [
    {
     "name": "stdout",
     "output_type": "stream",
     "text": [
      "840\n"
     ]
    }
   ],
   "source": [
    "parameters = 4 * 10 * (10 + 10 + 1)\n",
    "print(parameters)"
   ]
  },
  {
   "cell_type": "markdown",
   "metadata": {
    "id": "NJKnpeL2QEBi"
   },
   "source": [
    "Fitted the model to run for 300 epochs (the epochs are the number of times the learning algorithm will work through the entire training set) with a batch size of 10."
   ]
  },
  {
   "cell_type": "code",
   "execution_count": 21,
   "metadata": {
    "id": "7f6WDJFk9Q1o"
   },
   "outputs": [],
   "source": [
    "#save model\n",
    "import h5py\n",
    "regressor_mae.save(filepath=\"EURUSD_with_mae_30_ts.h5\")"
   ]
  },
  {
   "cell_type": "code",
   "execution_count": 22,
   "metadata": {
    "colab": {
     "base_uri": "https://localhost:8080/"
    },
    "id": "08TeubQR9MsA",
    "outputId": "fddd1b7f-316b-4814-a858-04f2ea18ebb8"
   },
   "outputs": [
    {
     "name": "stdout",
     "output_type": "stream",
     "text": [
      "Epoch: 0\n",
      "83/83 [==============================] - 4s 4ms/step - loss: 0.2562\n",
      "Epoch: 1\n",
      "83/83 [==============================] - 0s 4ms/step - loss: 0.1713\n",
      "Epoch: 2\n",
      "83/83 [==============================] - 1s 7ms/step - loss: 0.1586\n",
      "Epoch: 3\n",
      "83/83 [==============================] - 0s 5ms/step - loss: 0.1504\n",
      "Epoch: 4\n",
      "83/83 [==============================] - 0s 5ms/step - loss: 0.1417\n",
      "Epoch: 5\n",
      "83/83 [==============================] - 0s 5ms/step - loss: 0.1300\n",
      "Epoch: 6\n",
      "83/83 [==============================] - 0s 5ms/step - loss: 0.1180\n",
      "Epoch: 7\n",
      "83/83 [==============================] - 0s 4ms/step - loss: 0.1087\n",
      "Epoch: 8\n",
      "83/83 [==============================] - 0s 5ms/step - loss: 0.1009\n",
      "Epoch: 9\n",
      "83/83 [==============================] - 0s 4ms/step - loss: 0.0969\n",
      "Epoch: 10\n",
      "83/83 [==============================] - 0s 4ms/step - loss: 0.0940\n",
      "Epoch: 11\n",
      "83/83 [==============================] - 0s 5ms/step - loss: 0.0909\n",
      "Epoch: 12\n",
      "83/83 [==============================] - 0s 4ms/step - loss: 0.0918\n",
      "Epoch: 13\n",
      "83/83 [==============================] - 0s 5ms/step - loss: 0.0888\n",
      "Epoch: 14\n",
      "83/83 [==============================] - 0s 5ms/step - loss: 0.0880\n",
      "Epoch: 15\n",
      "83/83 [==============================] - 0s 5ms/step - loss: 0.0861\n",
      "Epoch: 16\n",
      "83/83 [==============================] - 0s 5ms/step - loss: 0.0852\n",
      "Epoch: 17\n",
      "83/83 [==============================] - 0s 4ms/step - loss: 0.0836\n",
      "Epoch: 18\n",
      "83/83 [==============================] - 0s 4ms/step - loss: 0.0837\n",
      "Epoch: 19\n",
      "83/83 [==============================] - 0s 4ms/step - loss: 0.0821\n",
      "Epoch: 20\n",
      "83/83 [==============================] - 0s 5ms/step - loss: 0.0824\n",
      "Epoch: 21\n",
      "83/83 [==============================] - 0s 4ms/step - loss: 0.0812\n",
      "Epoch: 22\n",
      "83/83 [==============================] - 0s 4ms/step - loss: 0.0808\n",
      "Epoch: 23\n",
      "83/83 [==============================] - 0s 4ms/step - loss: 0.0806\n",
      "Epoch: 24\n",
      "83/83 [==============================] - 0s 5ms/step - loss: 0.0801\n",
      "Epoch: 25\n",
      "83/83 [==============================] - 0s 5ms/step - loss: 0.0800\n",
      "Epoch: 26\n",
      "83/83 [==============================] - 0s 4ms/step - loss: 0.0795\n",
      "Epoch: 27\n",
      "83/83 [==============================] - 0s 4ms/step - loss: 0.0793\n",
      "Epoch: 28\n",
      "83/83 [==============================] - 0s 4ms/step - loss: 0.0798\n",
      "Epoch: 29\n",
      "83/83 [==============================] - 0s 4ms/step - loss: 0.0790\n",
      "Epoch: 30\n",
      "83/83 [==============================] - 0s 4ms/step - loss: 0.0792\n",
      "Epoch: 31\n",
      "83/83 [==============================] - 0s 5ms/step - loss: 0.0785\n",
      "Epoch: 32\n",
      "83/83 [==============================] - 0s 5ms/step - loss: 0.0787\n",
      "Epoch: 33\n",
      "83/83 [==============================] - 0s 6ms/step - loss: 0.0780\n",
      "Epoch: 34\n",
      "83/83 [==============================] - 0s 5ms/step - loss: 0.0781\n",
      "Epoch: 35\n",
      "83/83 [==============================] - 0s 5ms/step - loss: 0.0777\n",
      "Epoch: 36\n",
      "83/83 [==============================] - 0s 5ms/step - loss: 0.0774\n",
      "Epoch: 37\n",
      "83/83 [==============================] - 0s 5ms/step - loss: 0.0768\n",
      "Epoch: 38\n",
      "83/83 [==============================] - 0s 5ms/step - loss: 0.0760\n",
      "Epoch: 39\n",
      "83/83 [==============================] - 0s 5ms/step - loss: 0.0768\n",
      "Epoch: 40\n",
      "83/83 [==============================] - 0s 5ms/step - loss: 0.0748\n",
      "Epoch: 41\n",
      "83/83 [==============================] - 0s 5ms/step - loss: 0.0755\n",
      "Epoch: 42\n",
      "83/83 [==============================] - 0s 4ms/step - loss: 0.0740\n",
      "Epoch: 43\n",
      "83/83 [==============================] - 0s 4ms/step - loss: 0.0747\n",
      "Epoch: 44\n",
      "83/83 [==============================] - 0s 5ms/step - loss: 0.0726\n",
      "Epoch: 45\n",
      "83/83 [==============================] - 0s 5ms/step - loss: 0.0742\n",
      "Epoch: 46\n",
      "83/83 [==============================] - 0s 4ms/step - loss: 0.0715\n",
      "Epoch: 47\n",
      "83/83 [==============================] - 0s 5ms/step - loss: 0.0737\n",
      "Epoch: 48\n",
      "83/83 [==============================] - 0s 4ms/step - loss: 0.0705\n",
      "Epoch: 49\n",
      "83/83 [==============================] - 0s 5ms/step - loss: 0.0730\n",
      "Epoch: 50\n",
      "83/83 [==============================] - 0s 4ms/step - loss: 0.0694\n",
      "Epoch: 51\n",
      "83/83 [==============================] - 0s 5ms/step - loss: 0.0729\n",
      "Epoch: 52\n",
      "83/83 [==============================] - 0s 4ms/step - loss: 0.0685\n",
      "Epoch: 53\n",
      "83/83 [==============================] - 0s 5ms/step - loss: 0.0723\n",
      "Epoch: 54\n",
      "83/83 [==============================] - 0s 5ms/step - loss: 0.0676\n",
      "Epoch: 55\n",
      "83/83 [==============================] - 0s 5ms/step - loss: 0.0710\n",
      "Epoch: 56\n",
      "83/83 [==============================] - 0s 5ms/step - loss: 0.0672\n",
      "Epoch: 57\n",
      "83/83 [==============================] - 0s 5ms/step - loss: 0.0702\n",
      "Epoch: 58\n",
      "83/83 [==============================] - 0s 5ms/step - loss: 0.0663\n",
      "Epoch: 59\n",
      "83/83 [==============================] - 0s 5ms/step - loss: 0.0695\n",
      "Epoch: 60\n",
      "83/83 [==============================] - 0s 5ms/step - loss: 0.0656\n",
      "Epoch: 61\n",
      "83/83 [==============================] - 0s 5ms/step - loss: 0.0688\n",
      "Epoch: 62\n",
      "83/83 [==============================] - 0s 5ms/step - loss: 0.0656\n",
      "Epoch: 63\n",
      "83/83 [==============================] - 0s 5ms/step - loss: 0.0679\n",
      "Epoch: 64\n",
      "83/83 [==============================] - 0s 5ms/step - loss: 0.0650\n",
      "Epoch: 65\n",
      "83/83 [==============================] - 0s 5ms/step - loss: 0.0671\n",
      "Epoch: 66\n",
      "83/83 [==============================] - 0s 5ms/step - loss: 0.0661\n",
      "Epoch: 67\n",
      "83/83 [==============================] - 0s 5ms/step - loss: 0.0668\n",
      "Epoch: 68\n",
      "83/83 [==============================] - 0s 5ms/step - loss: 0.0654\n",
      "Epoch: 69\n",
      "83/83 [==============================] - 0s 5ms/step - loss: 0.0665\n",
      "Epoch: 70\n",
      "83/83 [==============================] - 0s 5ms/step - loss: 0.0659\n",
      "Epoch: 71\n",
      "83/83 [==============================] - 0s 5ms/step - loss: 0.0662\n",
      "Epoch: 72\n",
      "83/83 [==============================] - 0s 5ms/step - loss: 0.0657\n",
      "Epoch: 73\n",
      "83/83 [==============================] - 0s 4ms/step - loss: 0.0659\n",
      "Epoch: 74\n",
      "83/83 [==============================] - 0s 5ms/step - loss: 0.0657\n",
      "Epoch: 75\n",
      "83/83 [==============================] - 0s 5ms/step - loss: 0.0655\n",
      "Epoch: 76\n",
      "83/83 [==============================] - 0s 5ms/step - loss: 0.0654\n",
      "Epoch: 77\n",
      "83/83 [==============================] - 0s 4ms/step - loss: 0.0655\n",
      "Epoch: 78\n",
      "83/83 [==============================] - 0s 5ms/step - loss: 0.0653\n",
      "Epoch: 79\n",
      "83/83 [==============================] - 0s 4ms/step - loss: 0.0652\n",
      "Epoch: 80\n",
      "83/83 [==============================] - 0s 4ms/step - loss: 0.0652\n",
      "Epoch: 81\n",
      "83/83 [==============================] - 0s 5ms/step - loss: 0.0648\n",
      "Epoch: 82\n",
      "83/83 [==============================] - 0s 5ms/step - loss: 0.0651\n",
      "Epoch: 83\n",
      "83/83 [==============================] - 0s 6ms/step - loss: 0.0648\n",
      "Epoch: 84\n",
      "83/83 [==============================] - 0s 4ms/step - loss: 0.0650\n",
      "Epoch: 85\n",
      "83/83 [==============================] - 0s 5ms/step - loss: 0.0644\n",
      "Epoch: 86\n",
      "83/83 [==============================] - 0s 5ms/step - loss: 0.0649\n",
      "Epoch: 87\n",
      "83/83 [==============================] - 0s 5ms/step - loss: 0.0645\n",
      "Epoch: 88\n",
      "83/83 [==============================] - 0s 4ms/step - loss: 0.0645\n",
      "Epoch: 89\n",
      "83/83 [==============================] - 0s 4ms/step - loss: 0.0646\n",
      "Epoch: 90\n",
      "83/83 [==============================] - 0s 5ms/step - loss: 0.0646\n",
      "Epoch: 91\n",
      "83/83 [==============================] - 0s 5ms/step - loss: 0.0645\n",
      "Epoch: 92\n",
      "83/83 [==============================] - 0s 4ms/step - loss: 0.0644\n",
      "Epoch: 93\n",
      "83/83 [==============================] - 0s 5ms/step - loss: 0.0642\n",
      "Epoch: 94\n",
      "83/83 [==============================] - 0s 5ms/step - loss: 0.0642\n",
      "Epoch: 95\n",
      "83/83 [==============================] - 0s 5ms/step - loss: 0.0642\n",
      "Epoch: 96\n",
      "83/83 [==============================] - 0s 4ms/step - loss: 0.0640\n",
      "Epoch: 97\n",
      "83/83 [==============================] - 0s 5ms/step - loss: 0.0641\n",
      "Epoch: 98\n",
      "83/83 [==============================] - 0s 5ms/step - loss: 0.0638\n",
      "Epoch: 99\n",
      "83/83 [==============================] - 0s 4ms/step - loss: 0.0640\n",
      "Epoch: 100\n",
      "83/83 [==============================] - 0s 5ms/step - loss: 0.0636\n",
      "Epoch: 101\n",
      "83/83 [==============================] - 0s 4ms/step - loss: 0.0637\n",
      "Epoch: 102\n",
      "83/83 [==============================] - 0s 5ms/step - loss: 0.0640\n",
      "Epoch: 103\n",
      "83/83 [==============================] - 0s 4ms/step - loss: 0.0637\n",
      "Epoch: 104\n",
      "83/83 [==============================] - 0s 4ms/step - loss: 0.0633\n",
      "Epoch: 105\n",
      "83/83 [==============================] - 0s 5ms/step - loss: 0.0637\n",
      "Epoch: 106\n",
      "83/83 [==============================] - 0s 4ms/step - loss: 0.0636\n",
      "Epoch: 107\n",
      "83/83 [==============================] - 0s 5ms/step - loss: 0.0630\n",
      "Epoch: 108\n",
      "83/83 [==============================] - 0s 5ms/step - loss: 0.0632\n",
      "Epoch: 109\n",
      "83/83 [==============================] - 0s 5ms/step - loss: 0.0629\n",
      "Epoch: 110\n",
      "83/83 [==============================] - 0s 4ms/step - loss: 0.0633\n",
      "Epoch: 111\n",
      "83/83 [==============================] - 0s 4ms/step - loss: 0.0625\n",
      "Epoch: 112\n",
      "83/83 [==============================] - 0s 5ms/step - loss: 0.0623\n",
      "Epoch: 113\n",
      "83/83 [==============================] - 0s 5ms/step - loss: 0.0623\n",
      "Epoch: 114\n",
      "83/83 [==============================] - 0s 4ms/step - loss: 0.0621\n",
      "Epoch: 115\n",
      "83/83 [==============================] - 0s 4ms/step - loss: 0.0621\n",
      "Epoch: 116\n",
      "83/83 [==============================] - 0s 5ms/step - loss: 0.0619\n",
      "Epoch: 117\n",
      "83/83 [==============================] - 0s 5ms/step - loss: 0.0621\n",
      "Epoch: 118\n",
      "83/83 [==============================] - 0s 5ms/step - loss: 0.0615\n",
      "Epoch: 119\n",
      "83/83 [==============================] - 0s 5ms/step - loss: 0.0616\n",
      "Epoch: 120\n",
      "83/83 [==============================] - 0s 5ms/step - loss: 0.0612\n",
      "Epoch: 121\n",
      "83/83 [==============================] - 0s 5ms/step - loss: 0.0611\n",
      "Epoch: 122\n",
      "83/83 [==============================] - 0s 5ms/step - loss: 0.0611\n",
      "Epoch: 123\n",
      "83/83 [==============================] - 0s 4ms/step - loss: 0.0608\n",
      "Epoch: 124\n",
      "83/83 [==============================] - 0s 4ms/step - loss: 0.0605\n",
      "Epoch: 125\n",
      "83/83 [==============================] - 0s 5ms/step - loss: 0.0603\n",
      "Epoch: 126\n",
      "83/83 [==============================] - 0s 5ms/step - loss: 0.0601\n",
      "Epoch: 127\n",
      "83/83 [==============================] - 0s 5ms/step - loss: 0.0599\n",
      "Epoch: 128\n",
      "83/83 [==============================] - 0s 4ms/step - loss: 0.0603\n",
      "Epoch: 129\n",
      "83/83 [==============================] - 0s 4ms/step - loss: 0.0600\n",
      "Epoch: 130\n",
      "83/83 [==============================] - 0s 4ms/step - loss: 0.0604\n",
      "Epoch: 131\n",
      "83/83 [==============================] - 0s 5ms/step - loss: 0.0597\n",
      "Epoch: 132\n",
      "83/83 [==============================] - 0s 4ms/step - loss: 0.0602\n",
      "Epoch: 133\n",
      "83/83 [==============================] - 0s 4ms/step - loss: 0.0597\n",
      "Epoch: 134\n",
      "83/83 [==============================] - 0s 4ms/step - loss: 0.0600\n",
      "Epoch: 135\n",
      "83/83 [==============================] - 0s 5ms/step - loss: 0.0597\n",
      "Epoch: 136\n",
      "83/83 [==============================] - 0s 5ms/step - loss: 0.0599\n",
      "Epoch: 137\n",
      "83/83 [==============================] - 0s 5ms/step - loss: 0.0603\n",
      "Epoch: 138\n",
      "83/83 [==============================] - 0s 6ms/step - loss: 0.0601\n",
      "Epoch: 139\n",
      "83/83 [==============================] - 0s 5ms/step - loss: 0.0602\n",
      "Epoch: 140\n",
      "83/83 [==============================] - 0s 4ms/step - loss: 0.0602\n",
      "Epoch: 141\n",
      "83/83 [==============================] - 0s 5ms/step - loss: 0.0601\n",
      "Epoch: 142\n",
      "83/83 [==============================] - 0s 5ms/step - loss: 0.0607\n",
      "Epoch: 143\n",
      "83/83 [==============================] - 0s 5ms/step - loss: 0.0600\n",
      "Epoch: 144\n",
      "83/83 [==============================] - 0s 5ms/step - loss: 0.0603\n",
      "Epoch: 145\n",
      "83/83 [==============================] - 0s 5ms/step - loss: 0.0599\n",
      "Epoch: 146\n",
      "83/83 [==============================] - 0s 5ms/step - loss: 0.0607\n",
      "Epoch: 147\n",
      "83/83 [==============================] - 0s 6ms/step - loss: 0.0598\n",
      "Epoch: 148\n",
      "83/83 [==============================] - 0s 5ms/step - loss: 0.0603\n",
      "Epoch: 149\n",
      "83/83 [==============================] - 0s 5ms/step - loss: 0.0597\n",
      "Epoch: 150\n",
      "83/83 [==============================] - 0s 5ms/step - loss: 0.0598\n",
      "Epoch: 151\n",
      "83/83 [==============================] - 0s 5ms/step - loss: 0.0595\n",
      "Epoch: 152\n",
      "83/83 [==============================] - 0s 5ms/step - loss: 0.0595\n",
      "Epoch: 153\n",
      "83/83 [==============================] - 0s 5ms/step - loss: 0.0603\n",
      "Epoch: 154\n",
      "83/83 [==============================] - 0s 5ms/step - loss: 0.0593\n",
      "Epoch: 155\n",
      "83/83 [==============================] - 0s 5ms/step - loss: 0.0609\n",
      "Epoch: 156\n",
      "83/83 [==============================] - 1s 6ms/step - loss: 0.0589\n",
      "Epoch: 157\n",
      "83/83 [==============================] - 0s 5ms/step - loss: 0.0604\n",
      "Epoch: 158\n",
      "83/83 [==============================] - 0s 4ms/step - loss: 0.0590\n",
      "Epoch: 159\n",
      "83/83 [==============================] - 0s 4ms/step - loss: 0.0603\n",
      "Epoch: 160\n",
      "83/83 [==============================] - 0s 5ms/step - loss: 0.0594\n",
      "Epoch: 161\n",
      "83/83 [==============================] - 0s 5ms/step - loss: 0.0609\n",
      "Epoch: 162\n",
      "83/83 [==============================] - 0s 5ms/step - loss: 0.0596\n",
      "Epoch: 163\n",
      "83/83 [==============================] - 0s 4ms/step - loss: 0.0602\n",
      "Epoch: 164\n",
      "83/83 [==============================] - 0s 5ms/step - loss: 0.0589\n",
      "Epoch: 165\n",
      "83/83 [==============================] - 0s 5ms/step - loss: 0.0601\n",
      "Epoch: 166\n",
      "83/83 [==============================] - 0s 5ms/step - loss: 0.0587\n",
      "Epoch: 167\n",
      "83/83 [==============================] - 0s 4ms/step - loss: 0.0598\n",
      "Epoch: 168\n",
      "83/83 [==============================] - 0s 5ms/step - loss: 0.0592\n",
      "Epoch: 169\n",
      "83/83 [==============================] - 0s 5ms/step - loss: 0.0597\n",
      "Epoch: 170\n",
      "83/83 [==============================] - 0s 4ms/step - loss: 0.0594\n",
      "Epoch: 171\n",
      "83/83 [==============================] - 0s 4ms/step - loss: 0.0596\n",
      "Epoch: 172\n",
      "83/83 [==============================] - 0s 5ms/step - loss: 0.0593\n",
      "Epoch: 173\n",
      "83/83 [==============================] - 0s 6ms/step - loss: 0.0594\n",
      "Epoch: 174\n",
      "83/83 [==============================] - 0s 5ms/step - loss: 0.0602\n",
      "Epoch: 175\n",
      "83/83 [==============================] - 0s 4ms/step - loss: 0.0621\n",
      "Epoch: 176\n",
      "83/83 [==============================] - 0s 4ms/step - loss: 0.0615\n",
      "Epoch: 177\n",
      "83/83 [==============================] - 0s 5ms/step - loss: 0.0591\n",
      "Epoch: 178\n",
      "83/83 [==============================] - 0s 5ms/step - loss: 0.0615\n",
      "Epoch: 179\n",
      "83/83 [==============================] - 0s 5ms/step - loss: 0.0590\n",
      "Epoch: 180\n",
      "83/83 [==============================] - 0s 5ms/step - loss: 0.0610\n",
      "Epoch: 181\n",
      "83/83 [==============================] - 0s 4ms/step - loss: 0.0591\n",
      "Epoch: 182\n",
      "83/83 [==============================] - 0s 4ms/step - loss: 0.0609\n",
      "Epoch: 183\n",
      "83/83 [==============================] - 0s 4ms/step - loss: 0.0590\n",
      "Epoch: 184\n",
      "83/83 [==============================] - 0s 5ms/step - loss: 0.0604\n",
      "Epoch: 185\n",
      "83/83 [==============================] - 0s 5ms/step - loss: 0.0590\n",
      "Epoch: 186\n",
      "83/83 [==============================] - 0s 4ms/step - loss: 0.0604\n",
      "Epoch: 187\n",
      "83/83 [==============================] - 0s 5ms/step - loss: 0.0589\n",
      "Epoch: 188\n",
      "83/83 [==============================] - 0s 5ms/step - loss: 0.0605\n",
      "Epoch: 189\n",
      "83/83 [==============================] - 0s 4ms/step - loss: 0.0586\n",
      "Epoch: 190\n",
      "83/83 [==============================] - 0s 4ms/step - loss: 0.0607\n",
      "Epoch: 191\n",
      "83/83 [==============================] - 0s 5ms/step - loss: 0.0583\n",
      "Epoch: 192\n",
      "83/83 [==============================] - 0s 4ms/step - loss: 0.0603\n",
      "Epoch: 193\n",
      "83/83 [==============================] - 0s 4ms/step - loss: 0.0581\n",
      "Epoch: 194\n",
      "83/83 [==============================] - 0s 4ms/step - loss: 0.0599\n",
      "Epoch: 195\n",
      "83/83 [==============================] - 0s 4ms/step - loss: 0.0581\n",
      "Epoch: 196\n",
      "83/83 [==============================] - 0s 5ms/step - loss: 0.0599\n",
      "Epoch: 197\n",
      "83/83 [==============================] - 0s 5ms/step - loss: 0.0582\n",
      "Epoch: 198\n",
      "83/83 [==============================] - 0s 4ms/step - loss: 0.0602\n",
      "Epoch: 199\n",
      "83/83 [==============================] - 0s 5ms/step - loss: 0.0580\n",
      "Epoch: 200\n",
      "83/83 [==============================] - 0s 4ms/step - loss: 0.0599\n",
      "Epoch: 201\n",
      "83/83 [==============================] - 0s 4ms/step - loss: 0.0580\n",
      "Epoch: 202\n",
      "83/83 [==============================] - 1s 6ms/step - loss: 0.0596\n",
      "Epoch: 203\n",
      "83/83 [==============================] - 0s 4ms/step - loss: 0.0581\n",
      "Epoch: 204\n",
      "83/83 [==============================] - 0s 4ms/step - loss: 0.0590\n",
      "Epoch: 205\n",
      "83/83 [==============================] - 0s 5ms/step - loss: 0.0588\n",
      "Epoch: 206\n",
      "83/83 [==============================] - 0s 5ms/step - loss: 0.0592\n",
      "Epoch: 207\n",
      "83/83 [==============================] - 0s 4ms/step - loss: 0.0595\n",
      "Epoch: 208\n",
      "83/83 [==============================] - 0s 4ms/step - loss: 0.0600\n",
      "Epoch: 209\n",
      "83/83 [==============================] - 0s 4ms/step - loss: 0.0603\n",
      "Epoch: 210\n",
      "83/83 [==============================] - 0s 5ms/step - loss: 0.0585\n",
      "Epoch: 211\n",
      "83/83 [==============================] - 0s 5ms/step - loss: 0.0606\n",
      "Epoch: 212\n",
      "83/83 [==============================] - 0s 5ms/step - loss: 0.0580\n",
      "Epoch: 213\n",
      "83/83 [==============================] - 0s 5ms/step - loss: 0.0595\n",
      "Epoch: 214\n",
      "83/83 [==============================] - 0s 5ms/step - loss: 0.0581\n",
      "Epoch: 215\n",
      "83/83 [==============================] - 0s 6ms/step - loss: 0.0596\n",
      "Epoch: 216\n",
      "83/83 [==============================] - 0s 4ms/step - loss: 0.0581\n",
      "Epoch: 217\n",
      "83/83 [==============================] - 0s 5ms/step - loss: 0.0594\n",
      "Epoch: 218\n",
      "83/83 [==============================] - 0s 5ms/step - loss: 0.0582\n",
      "Epoch: 219\n",
      "83/83 [==============================] - 0s 5ms/step - loss: 0.0598\n",
      "Epoch: 220\n",
      "83/83 [==============================] - 0s 4ms/step - loss: 0.0581\n",
      "Epoch: 221\n",
      "83/83 [==============================] - 0s 4ms/step - loss: 0.0592\n",
      "Epoch: 222\n",
      "83/83 [==============================] - 0s 4ms/step - loss: 0.0582\n",
      "Epoch: 223\n",
      "83/83 [==============================] - 0s 4ms/step - loss: 0.0595\n",
      "Epoch: 224\n",
      "83/83 [==============================] - 0s 5ms/step - loss: 0.0586\n",
      "Epoch: 225\n",
      "83/83 [==============================] - 0s 5ms/step - loss: 0.0598\n",
      "Epoch: 226\n",
      "83/83 [==============================] - 0s 5ms/step - loss: 0.0599\n",
      "Epoch: 227\n",
      "83/83 [==============================] - 0s 4ms/step - loss: 0.0585\n",
      "Epoch: 228\n",
      "83/83 [==============================] - 0s 4ms/step - loss: 0.0589\n",
      "Epoch: 229\n",
      "83/83 [==============================] - 0s 4ms/step - loss: 0.0583\n",
      "Epoch: 230\n",
      "83/83 [==============================] - 0s 4ms/step - loss: 0.0590\n",
      "Epoch: 231\n",
      "83/83 [==============================] - 0s 4ms/step - loss: 0.0581\n",
      "Epoch: 232\n",
      "83/83 [==============================] - 0s 5ms/step - loss: 0.0587\n",
      "Epoch: 233\n",
      "83/83 [==============================] - 0s 4ms/step - loss: 0.0583\n",
      "Epoch: 234\n",
      "83/83 [==============================] - 0s 4ms/step - loss: 0.0587\n",
      "Epoch: 235\n",
      "83/83 [==============================] - 0s 4ms/step - loss: 0.0585\n",
      "Epoch: 236\n",
      "83/83 [==============================] - 0s 4ms/step - loss: 0.0592\n",
      "Epoch: 237\n",
      "83/83 [==============================] - 0s 4ms/step - loss: 0.0605\n",
      "Epoch: 238\n",
      "83/83 [==============================] - 0s 4ms/step - loss: 0.0596\n",
      "Epoch: 239\n",
      "83/83 [==============================] - 0s 4ms/step - loss: 0.0583\n",
      "Epoch: 240\n",
      "83/83 [==============================] - 0s 4ms/step - loss: 0.0590\n",
      "Epoch: 241\n",
      "83/83 [==============================] - 0s 5ms/step - loss: 0.0580\n",
      "Epoch: 242\n",
      "83/83 [==============================] - 0s 5ms/step - loss: 0.0586\n",
      "Epoch: 243\n",
      "83/83 [==============================] - 0s 5ms/step - loss: 0.0582\n",
      "Epoch: 244\n",
      "83/83 [==============================] - 0s 5ms/step - loss: 0.0589\n",
      "Epoch: 245\n",
      "83/83 [==============================] - 0s 6ms/step - loss: 0.0581\n",
      "Epoch: 246\n",
      "83/83 [==============================] - 0s 4ms/step - loss: 0.0588\n",
      "Epoch: 247\n",
      "83/83 [==============================] - 0s 4ms/step - loss: 0.0581\n",
      "Epoch: 248\n",
      "83/83 [==============================] - 0s 5ms/step - loss: 0.0584\n",
      "Epoch: 249\n",
      "83/83 [==============================] - 0s 5ms/step - loss: 0.0583\n",
      "Epoch: 250\n",
      "83/83 [==============================] - 0s 4ms/step - loss: 0.0585\n",
      "Epoch: 251\n",
      "83/83 [==============================] - 0s 4ms/step - loss: 0.0583\n",
      "Epoch: 252\n",
      "83/83 [==============================] - 0s 5ms/step - loss: 0.0589\n",
      "Epoch: 253\n",
      "83/83 [==============================] - 0s 4ms/step - loss: 0.0597\n",
      "Epoch: 254\n",
      "83/83 [==============================] - 0s 5ms/step - loss: 0.0592\n",
      "Epoch: 255\n",
      "83/83 [==============================] - 0s 5ms/step - loss: 0.0581\n",
      "Epoch: 256\n",
      "83/83 [==============================] - 0s 4ms/step - loss: 0.0584\n",
      "Epoch: 257\n",
      "83/83 [==============================] - 0s 5ms/step - loss: 0.0581\n",
      "Epoch: 258\n",
      "83/83 [==============================] - 0s 4ms/step - loss: 0.0587\n",
      "Epoch: 259\n",
      "83/83 [==============================] - 0s 4ms/step - loss: 0.0580\n",
      "Epoch: 260\n",
      "83/83 [==============================] - 0s 4ms/step - loss: 0.0587\n",
      "Epoch: 261\n",
      "83/83 [==============================] - 0s 5ms/step - loss: 0.0581\n",
      "Epoch: 262\n",
      "83/83 [==============================] - 0s 5ms/step - loss: 0.0584\n",
      "Epoch: 263\n",
      "83/83 [==============================] - 0s 5ms/step - loss: 0.0580\n",
      "Epoch: 264\n",
      "83/83 [==============================] - 0s 5ms/step - loss: 0.0579\n",
      "Epoch: 265\n",
      "83/83 [==============================] - 0s 4ms/step - loss: 0.0581\n",
      "Epoch: 266\n",
      "83/83 [==============================] - 0s 4ms/step - loss: 0.0578\n",
      "Epoch: 267\n",
      "83/83 [==============================] - 0s 4ms/step - loss: 0.0580\n",
      "Epoch: 268\n",
      "83/83 [==============================] - 0s 4ms/step - loss: 0.0579\n",
      "Epoch: 269\n",
      "83/83 [==============================] - 0s 5ms/step - loss: 0.0579\n",
      "Epoch: 270\n",
      "83/83 [==============================] - 0s 4ms/step - loss: 0.0587\n",
      "Epoch: 271\n",
      "83/83 [==============================] - 0s 4ms/step - loss: 0.0594\n",
      "Epoch: 272\n",
      "83/83 [==============================] - 0s 5ms/step - loss: 0.0584\n",
      "Epoch: 273\n",
      "83/83 [==============================] - 0s 5ms/step - loss: 0.0578\n",
      "Epoch: 274\n",
      "83/83 [==============================] - 0s 4ms/step - loss: 0.0583\n",
      "Epoch: 275\n",
      "83/83 [==============================] - 0s 5ms/step - loss: 0.0579\n",
      "Epoch: 276\n",
      "83/83 [==============================] - 0s 5ms/step - loss: 0.0587\n",
      "Epoch: 277\n",
      "83/83 [==============================] - 0s 4ms/step - loss: 0.0581\n",
      "Epoch: 278\n",
      "83/83 [==============================] - 0s 4ms/step - loss: 0.0591\n",
      "Epoch: 279\n",
      "83/83 [==============================] - 0s 4ms/step - loss: 0.0581\n",
      "Epoch: 280\n",
      "83/83 [==============================] - 0s 4ms/step - loss: 0.0588\n",
      "Epoch: 281\n",
      "83/83 [==============================] - 0s 5ms/step - loss: 0.0584\n",
      "Epoch: 282\n",
      "83/83 [==============================] - 0s 5ms/step - loss: 0.0594\n",
      "Epoch: 283\n",
      "83/83 [==============================] - 0s 5ms/step - loss: 0.0584\n",
      "Epoch: 284\n",
      "83/83 [==============================] - 0s 5ms/step - loss: 0.0588\n",
      "Epoch: 285\n",
      "83/83 [==============================] - 0s 5ms/step - loss: 0.0584\n",
      "Epoch: 286\n",
      "83/83 [==============================] - 0s 5ms/step - loss: 0.0588\n",
      "Epoch: 287\n",
      "83/83 [==============================] - 0s 5ms/step - loss: 0.0591\n",
      "Epoch: 288\n",
      "83/83 [==============================] - 0s 4ms/step - loss: 0.0588\n",
      "Epoch: 289\n",
      "83/83 [==============================] - 0s 4ms/step - loss: 0.0589\n",
      "Epoch: 290\n",
      "83/83 [==============================] - 0s 4ms/step - loss: 0.0597\n",
      "Epoch: 291\n",
      "83/83 [==============================] - 0s 5ms/step - loss: 0.0589\n",
      "Epoch: 292\n",
      "83/83 [==============================] - 0s 5ms/step - loss: 0.0594\n",
      "Epoch: 293\n",
      "83/83 [==============================] - 0s 4ms/step - loss: 0.0585\n",
      "Epoch: 294\n",
      "83/83 [==============================] - 0s 5ms/step - loss: 0.0604\n",
      "Epoch: 295\n",
      "83/83 [==============================] - 0s 4ms/step - loss: 0.0592\n",
      "Epoch: 296\n",
      "83/83 [==============================] - 0s 4ms/step - loss: 0.0597\n",
      "Epoch: 297\n",
      "83/83 [==============================] - 0s 5ms/step - loss: 0.0590\n",
      "Epoch: 298\n",
      "83/83 [==============================] - 0s 5ms/step - loss: 0.0598\n",
      "Epoch: 299\n",
      "83/83 [==============================] - 0s 5ms/step - loss: 0.0590\n"
     ]
    }
   ],
   "source": [
    "#Stateful\n",
    "for i in range(epochs):\n",
    "    print(\"Epoch: \" + str(i))\n",
    "    #run through all data but the cell, hidden state are used for the next batch.\n",
    "    regressor_mae.fit(X_train, y_train, shuffle=False, epochs = 1, batch_size = batch_size)\n",
    "    #resets only the states but the weights, cell and hidden are kept.\n",
    "    regressor_mae.reset_states()\n",
    "    \n",
    "#Stateless\n",
    "#between the batches the cell and hidden states are lost.\n",
    "#regressor_mae.fit(X_train, y_train, shuffle=False, epochs = epochs, batch_size = batch_size)"
   ]
  },
  {
   "cell_type": "code",
   "execution_count": 23,
   "metadata": {
    "id": "zsPumgdo9Wm4"
   },
   "outputs": [],
   "source": [
    "#load model\n",
    "import h5py\n",
    "regressor_mae = load_model(filepath=\"EURUSD_with_mae_30_ts.h5\")"
   ]
  },
  {
   "cell_type": "code",
   "execution_count": 24,
   "metadata": {
    "id": "dSJFcum39YjI"
   },
   "outputs": [],
   "source": [
    "def get_test_length(dataset, batch_size):\n",
    "    \n",
    "    test_length_values = []\n",
    "    for x in range(len(dataset) - 200, len(dataset) - timesteps*2): \n",
    "        modulo=(x-upper_train)%batch_size\n",
    "        if (modulo == 0):\n",
    "            test_length_values.append(x)\n",
    "            print(x)\n",
    "    return (max(test_length_values))"
   ]
  },
  {
   "cell_type": "code",
   "execution_count": 25,
   "metadata": {
    "colab": {
     "base_uri": "https://localhost:8080/"
    },
    "id": "RS1pNhDP9bI0",
    "outputId": "7aae7cd8-dba1-4970-8041-212fb3ea3bd1"
   },
   "outputs": [
    {
     "name": "stdout",
     "output_type": "stream",
     "text": [
      "740\n",
      "750\n",
      "760\n",
      "770\n",
      "780\n",
      "790\n",
      "800\n",
      "810\n",
      "820\n",
      "830\n",
      "840\n",
      "850\n",
      "860\n",
      "870\n",
      "880\n",
      "890\n",
      "900\n",
      "910\n",
      "920\n",
      "920\n",
      "80\n"
     ]
    }
   ],
   "source": [
    "test_length = get_test_length(df_EURUSD, batch_size)\n",
    "print(test_length)\n",
    "upper_test = test_length + timesteps*2\n",
    "testset_length = test_length - upper_train\n",
    "print(testset_length)"
   ]
  },
  {
   "cell_type": "code",
   "execution_count": 26,
   "metadata": {
    "colab": {
     "base_uri": "https://localhost:8080/"
    },
    "id": "-9CgoJMt9dda",
    "outputId": "09e10d8a-9a75-465a-cf14-dc1b2015a9de"
   },
   "outputs": [
    {
     "name": "stdout",
     "output_type": "stream",
     "text": [
      "840 930 932\n"
     ]
    }
   ],
   "source": [
    "print(upper_train, upper_test, len(df_EURUSD))"
   ]
  },
  {
   "cell_type": "code",
   "execution_count": 27,
   "metadata": {
    "id": "5qjArNNh9gC-"
   },
   "outputs": [],
   "source": [
    "# construct test set\n",
    "\n",
    "#subsetting\n",
    "df_EURUSD_test = df_EURUSD[upper_train:upper_test] \n",
    "test_set = df_EURUSD_test.iloc[:,1:2].values\n",
    "\n",
    "#scaling\n",
    "scaled_real_bcg_values_test = sc.fit_transform(np.float64(test_set))\n",
    "\n",
    "#creating input data\n",
    "X_test = []\n",
    "for i in range(timesteps, testset_length + timesteps):\n",
    "    X_test.append(scaled_real_bcg_values_test[i-timesteps:i, 0])\n",
    "X_test = np.array(X_test)\n",
    "\n",
    "#reshaping\n",
    "X_test = np.reshape(X_test, (X_test.shape[0], X_test.shape[1], 1))"
   ]
  },
  {
   "cell_type": "code",
   "execution_count": 28,
   "metadata": {
    "colab": {
     "base_uri": "https://localhost:8080/"
    },
    "id": "lpw4Iol29kjV",
    "outputId": "12352498-6408-4e4f-b3a5-670de4e33c24"
   },
   "outputs": [
    {
     "data": {
      "text/plain": [
       "(80, 5, 1)"
      ]
     },
     "execution_count": 28,
     "metadata": {},
     "output_type": "execute_result"
    }
   ],
   "source": [
    "#print(X_test)\n",
    "X_test.shape"
   ]
  },
  {
   "cell_type": "code",
   "execution_count": 29,
   "metadata": {
    "colab": {
     "base_uri": "https://localhost:8080/"
    },
    "id": "jE0cQiYG9mu3",
    "outputId": "d445a835-f55d-40d4-c038-a2f141dd91ac"
   },
   "outputs": [
    {
     "name": "stdout",
     "output_type": "stream",
     "text": [
      "(80, 5, 1)\n",
      "(80, 5)\n",
      "(75, 1)\n"
     ]
    }
   ],
   "source": [
    "#prediction\n",
    "predicted_bcg_values_test_mae = regressor_mae.predict(X_test, batch_size=batch_size)\n",
    "regressor_mae.reset_states()\n",
    "\n",
    "print(predicted_bcg_values_test_mae.shape)\n",
    "\n",
    "#reshaping\n",
    "predicted_bcg_values_test_mae = np.reshape(predicted_bcg_values_test_mae, \n",
    "                                       (predicted_bcg_values_test_mae.shape[0], \n",
    "                                        predicted_bcg_values_test_mae.shape[1]))\n",
    "\n",
    "print(predicted_bcg_values_test_mae.shape)\n",
    "#inverse transform\n",
    "predicted_bcg_values_test_mae = sc.inverse_transform(predicted_bcg_values_test_mae)\n",
    "\n",
    "\n",
    "#creating y_test data\n",
    "y_test = []\n",
    "for j in range(0, testset_length - timesteps):\n",
    "    y_test = np.append(y_test, predicted_bcg_values_test_mae[j, timesteps-1])\n",
    "\n",
    "# reshaping\n",
    "y_test = np.reshape(y_test, (y_test.shape[0], 1))\n",
    "\n",
    "print(y_test.shape)\n",
    "#print(y_test)"
   ]
  },
  {
   "cell_type": "code",
   "execution_count": 30,
   "metadata": {
    "colab": {
     "base_uri": "https://localhost:8080/",
     "height": 295
    },
    "id": "uE8iyNU99pwU",
    "outputId": "0374f21e-f293-453b-a85a-0dc3f6e226d5"
   },
   "outputs": [
    {
     "data": {
      "image/png": "[encoded data removed]",
      "text/plain": [
       "<Figure size 432x288 with 1 Axes>"
      ]
     },
     "metadata": {
      "needs_background": "light"
     },
     "output_type": "display_data"
    }
   ],
   "source": [
    "# Visualising the results\n",
    "plt.plot(test_set[timesteps:len(y_test)].astype(float), color = 'red', label = 'Real EUR/USD Prices')\n",
    "plt.plot(y_test[0:len(y_test) - timesteps].astype(float), color = 'blue', label = 'Predicted EUR/USD Prices')\n",
    "plt.title('EUR/USD Prediction - MAE')\n",
    "plt.xlabel('Time')\n",
    "plt.ylabel('EUR/USD')\n",
    "plt.legend()\n",
    "plt.show()"
   ]
  },
  {
   "cell_type": "code",
   "execution_count": 31,
   "metadata": {
    "colab": {
     "base_uri": "https://localhost:8080/"
    },
    "id": "HH6ZaA2F9s08",
    "outputId": "e9a4f353-3136-4ced-f830-6e6dc9478aeb"
   },
   "outputs": [
    {
     "name": "stdout",
     "output_type": "stream",
     "text": [
      "0.0040569393434274886\n"
     ]
    }
   ],
   "source": [
    "#MSE (mean squared error)\n",
    "import math\n",
    "from sklearn.metrics import mean_squared_error\n",
    "rmse = math.sqrt(mean_squared_error(test_set[timesteps:len(y_test)], y_test[0:len(y_test) - timesteps]))\n",
    "print(rmse)"
   ]
  },
  {
   "cell_type": "code",
   "execution_count": 32,
   "metadata": {
    "colab": {
     "base_uri": "https://localhost:8080/"
    },
    "id": "z0674Tl29vAj",
    "outputId": "9b2b33fe-c21b-4b00-8b34-0e18c289a1e0"
   },
   "outputs": [
    {
     "name": "stdout",
     "output_type": "stream",
     "text": [
      "0.003602201119014186\n"
     ]
    }
   ],
   "source": [
    "#MAE (mean absolute error)\n",
    "from sklearn.metrics import mean_absolute_error\n",
    "mae = mean_absolute_error(test_set[timesteps:len(y_test)], y_test[0:len(y_test) - timesteps])\n",
    "print(mae)"
   ]
  },
  {
   "cell_type": "code",
   "execution_count": 33,
   "metadata": {
    "colab": {
     "base_uri": "https://localhost:8080/"
    },
    "id": "maPjBu8s9xV-",
    "outputId": "339d1cb2-f630-4aa7-c5d9-4c7991cf4fdf"
   },
   "outputs": [
    {
     "name": "stdout",
     "output_type": "stream",
     "text": [
      "Model: \"model_1\"\n",
      "_________________________________________________________________\n",
      " Layer (type)                Output Shape              Param #   \n",
      "=================================================================\n",
      " input_2 (InputLayer)        [(10, 5, 1)]              0         \n",
      "                                                                 \n",
      " lstm_2 (LSTM)               (10, 5, 10)               480       \n",
      "                                                                 \n",
      " lstm_3 (LSTM)               (10, 5, 10)               840       \n",
      "                                                                 \n",
      " dense_1 (Dense)             (10, 5, 1)                11        \n",
      "                                                                 \n",
      "=================================================================\n",
      "Total params: 1,331\n",
      "Trainable params: 1,331\n",
      "Non-trainable params: 0\n",
      "_________________________________________________________________\n"
     ]
    }
   ],
   "source": [
    "# Initialising the LSTM Model with MSE Loss Function\n",
    "\n",
    "inputs_1_mse = Input(batch_shape=(batch_size,timesteps,1))\n",
    "lstm_1_mse = LSTM(10, stateful=True, return_sequences=True)(inputs_1_mse)\n",
    "lstm_2_mse = LSTM(10, stateful=True, return_sequences=True)(lstm_1_mse)\n",
    "\n",
    "output_1_mse = Dense(units = 1)(lstm_2_mse)\n",
    "\n",
    "regressor_mse = Model(inputs=inputs_1_mse, outputs = output_1_mse)\n",
    "\n",
    "#mse -> mean squared error as loss function\n",
    "regressor_mse.compile(optimizer='adam', loss = 'mse')\n",
    "regressor_mse.summary()"
   ]
  },
  {
   "cell_type": "code",
   "execution_count": 34,
   "metadata": {
    "id": "-GcSzXwV9zdy"
   },
   "outputs": [],
   "source": [
    "import tensorflow as tf\n",
    "from keras import backend as K\n",
    "\n",
    "K.set_session(K.tf.compat.v1.Session(config=K.tf.compat.v1.ConfigProto(intra_op_parallelism_threads=1, inter_op_parallelism_threads=1)))"
   ]
  },
  {
   "cell_type": "code",
   "execution_count": 35,
   "metadata": {
    "colab": {
     "base_uri": "https://localhost:8080/"
    },
    "id": "QSerLD3i96wW",
    "outputId": "25426525-94d3-4123-94a3-114636fb47cf"
   },
   "outputs": [
    {
     "name": "stdout",
     "output_type": "stream",
     "text": [
      "Epoch: 0\n",
      "83/83 [==============================] - 4s 5ms/step - loss: 0.0450\n",
      "Epoch: 1\n",
      "83/83 [==============================] - 0s 5ms/step - loss: 0.0330\n",
      "Epoch: 2\n",
      "83/83 [==============================] - 0s 5ms/step - loss: 0.0276\n",
      "Epoch: 3\n",
      "83/83 [==============================] - 0s 5ms/step - loss: 0.0249\n",
      "Epoch: 4\n",
      "83/83 [==============================] - 0s 5ms/step - loss: 0.0228\n",
      "Epoch: 5\n",
      "83/83 [==============================] - 0s 5ms/step - loss: 0.0211\n",
      "Epoch: 6\n",
      "83/83 [==============================] - 0s 5ms/step - loss: 0.0197\n",
      "Epoch: 7\n",
      "83/83 [==============================] - 0s 5ms/step - loss: 0.0185\n",
      "Epoch: 8\n",
      "83/83 [==============================] - 0s 5ms/step - loss: 0.0175\n",
      "Epoch: 9\n",
      "83/83 [==============================] - 0s 5ms/step - loss: 0.0166\n",
      "Epoch: 10\n",
      "83/83 [==============================] - 0s 5ms/step - loss: 0.0159\n",
      "Epoch: 11\n",
      "83/83 [==============================] - 0s 5ms/step - loss: 0.0152\n",
      "Epoch: 12\n",
      "83/83 [==============================] - 0s 5ms/step - loss: 0.0146\n",
      "Epoch: 13\n",
      "83/83 [==============================] - 0s 5ms/step - loss: 0.0141\n",
      "Epoch: 14\n",
      "83/83 [==============================] - 0s 5ms/step - loss: 0.0136\n",
      "Epoch: 15\n",
      "83/83 [==============================] - 0s 5ms/step - loss: 0.0132\n",
      "Epoch: 16\n",
      "83/83 [==============================] - 0s 5ms/step - loss: 0.0128\n",
      "Epoch: 17\n",
      "83/83 [==============================] - 0s 5ms/step - loss: 0.0125\n",
      "Epoch: 18\n",
      "83/83 [==============================] - 0s 5ms/step - loss: 0.0122\n",
      "Epoch: 19\n",
      "83/83 [==============================] - 0s 5ms/step - loss: 0.0119\n",
      "Epoch: 20\n",
      "83/83 [==============================] - 0s 5ms/step - loss: 0.0117\n",
      "Epoch: 21\n",
      "83/83 [==============================] - 0s 5ms/step - loss: 0.0115\n",
      "Epoch: 22\n",
      "83/83 [==============================] - 0s 5ms/step - loss: 0.0113\n",
      "Epoch: 23\n",
      "83/83 [==============================] - 0s 5ms/step - loss: 0.0111\n",
      "Epoch: 24\n",
      "83/83 [==============================] - 0s 5ms/step - loss: 0.0110\n",
      "Epoch: 25\n",
      "83/83 [==============================] - 0s 5ms/step - loss: 0.0108\n",
      "Epoch: 26\n",
      "83/83 [==============================] - 0s 5ms/step - loss: 0.0107\n",
      "Epoch: 27\n",
      "83/83 [==============================] - 0s 5ms/step - loss: 0.0106\n",
      "Epoch: 28\n",
      "83/83 [==============================] - 0s 5ms/step - loss: 0.0105\n",
      "Epoch: 29\n",
      "83/83 [==============================] - 0s 5ms/step - loss: 0.0103\n",
      "Epoch: 30\n",
      "83/83 [==============================] - 0s 5ms/step - loss: 0.0102\n",
      "Epoch: 31\n",
      "83/83 [==============================] - 0s 5ms/step - loss: 0.0101\n",
      "Epoch: 32\n",
      "83/83 [==============================] - 0s 5ms/step - loss: 0.0100\n",
      "Epoch: 33\n",
      "83/83 [==============================] - 0s 5ms/step - loss: 0.0099\n",
      "Epoch: 34\n",
      "83/83 [==============================] - 0s 5ms/step - loss: 0.0098\n",
      "Epoch: 35\n",
      "83/83 [==============================] - 0s 5ms/step - loss: 0.0097\n",
      "Epoch: 36\n",
      "83/83 [==============================] - 0s 5ms/step - loss: 0.0096\n",
      "Epoch: 37\n",
      "83/83 [==============================] - 0s 4ms/step - loss: 0.0095\n",
      "Epoch: 38\n",
      "83/83 [==============================] - 0s 5ms/step - loss: 0.0094\n",
      "Epoch: 39\n",
      "83/83 [==============================] - 0s 5ms/step - loss: 0.0093\n",
      "Epoch: 40\n",
      "83/83 [==============================] - 0s 5ms/step - loss: 0.0092\n",
      "Epoch: 41\n",
      "83/83 [==============================] - 0s 5ms/step - loss: 0.0091\n",
      "Epoch: 42\n",
      "83/83 [==============================] - 0s 5ms/step - loss: 0.0090\n",
      "Epoch: 43\n",
      "83/83 [==============================] - 0s 5ms/step - loss: 0.0089\n",
      "Epoch: 44\n",
      "83/83 [==============================] - 0s 5ms/step - loss: 0.0089\n",
      "Epoch: 45\n",
      "83/83 [==============================] - 0s 5ms/step - loss: 0.0088\n",
      "Epoch: 46\n",
      "83/83 [==============================] - 1s 6ms/step - loss: 0.0087\n",
      "Epoch: 47\n",
      "83/83 [==============================] - 1s 7ms/step - loss: 0.0086\n",
      "Epoch: 48\n",
      "83/83 [==============================] - 0s 5ms/step - loss: 0.0086\n",
      "Epoch: 49\n",
      "83/83 [==============================] - 0s 5ms/step - loss: 0.0085\n",
      "Epoch: 50\n",
      "83/83 [==============================] - 0s 4ms/step - loss: 0.0084\n",
      "Epoch: 51\n",
      "83/83 [==============================] - 0s 5ms/step - loss: 0.0084\n",
      "Epoch: 52\n",
      "83/83 [==============================] - 0s 5ms/step - loss: 0.0083\n",
      "Epoch: 53\n",
      "83/83 [==============================] - 0s 6ms/step - loss: 0.0082\n",
      "Epoch: 54\n",
      "83/83 [==============================] - 1s 6ms/step - loss: 0.0082\n",
      "Epoch: 55\n",
      "83/83 [==============================] - 0s 5ms/step - loss: 0.0081\n",
      "Epoch: 56\n",
      "83/83 [==============================] - 0s 5ms/step - loss: 0.0081\n",
      "Epoch: 57\n",
      "83/83 [==============================] - 0s 5ms/step - loss: 0.0080\n",
      "Epoch: 58\n",
      "83/83 [==============================] - 0s 5ms/step - loss: 0.0080\n",
      "Epoch: 59\n",
      "83/83 [==============================] - 0s 4ms/step - loss: 0.0079\n",
      "Epoch: 60\n",
      "83/83 [==============================] - 0s 5ms/step - loss: 0.0079\n",
      "Epoch: 61\n",
      "83/83 [==============================] - 0s 5ms/step - loss: 0.0078\n",
      "Epoch: 62\n",
      "83/83 [==============================] - 0s 4ms/step - loss: 0.0078\n",
      "Epoch: 63\n",
      "83/83 [==============================] - 0s 4ms/step - loss: 0.0077\n",
      "Epoch: 64\n",
      "83/83 [==============================] - 1s 7ms/step - loss: 0.0077\n",
      "Epoch: 65\n",
      "83/83 [==============================] - 0s 5ms/step - loss: 0.0076\n",
      "Epoch: 66\n",
      "83/83 [==============================] - 0s 4ms/step - loss: 0.0076\n",
      "Epoch: 67\n",
      "83/83 [==============================] - 0s 5ms/step - loss: 0.0076\n",
      "Epoch: 68\n",
      "83/83 [==============================] - 0s 5ms/step - loss: 0.0075\n",
      "Epoch: 69\n",
      "83/83 [==============================] - 0s 5ms/step - loss: 0.0075\n",
      "Epoch: 70\n",
      "83/83 [==============================] - 0s 5ms/step - loss: 0.0075\n",
      "Epoch: 71\n",
      "83/83 [==============================] - 0s 5ms/step - loss: 0.0075\n",
      "Epoch: 72\n",
      "83/83 [==============================] - 0s 4ms/step - loss: 0.0074\n",
      "Epoch: 73\n",
      "83/83 [==============================] - 0s 5ms/step - loss: 0.0074\n",
      "Epoch: 74\n",
      "83/83 [==============================] - 0s 4ms/step - loss: 0.0074\n",
      "Epoch: 75\n",
      "83/83 [==============================] - 0s 5ms/step - loss: 0.0074\n",
      "Epoch: 76\n",
      "83/83 [==============================] - 0s 5ms/step - loss: 0.0073\n",
      "Epoch: 77\n",
      "83/83 [==============================] - 0s 5ms/step - loss: 0.0073\n",
      "Epoch: 78\n",
      "83/83 [==============================] - 0s 5ms/step - loss: 0.0073\n",
      "Epoch: 79\n",
      "83/83 [==============================] - 0s 5ms/step - loss: 0.0073\n",
      "Epoch: 80\n",
      "83/83 [==============================] - 0s 5ms/step - loss: 0.0073\n",
      "Epoch: 81\n",
      "83/83 [==============================] - 0s 4ms/step - loss: 0.0073\n",
      "Epoch: 82\n",
      "83/83 [==============================] - 0s 5ms/step - loss: 0.0073\n",
      "Epoch: 83\n",
      "83/83 [==============================] - 0s 5ms/step - loss: 0.0072\n",
      "Epoch: 84\n",
      "83/83 [==============================] - 0s 5ms/step - loss: 0.0072\n",
      "Epoch: 85\n",
      "83/83 [==============================] - 0s 5ms/step - loss: 0.0072\n",
      "Epoch: 86\n",
      "83/83 [==============================] - 0s 4ms/step - loss: 0.0072\n",
      "Epoch: 87\n",
      "83/83 [==============================] - 0s 5ms/step - loss: 0.0072\n",
      "Epoch: 88\n",
      "83/83 [==============================] - 0s 5ms/step - loss: 0.0072\n",
      "Epoch: 89\n",
      "83/83 [==============================] - 0s 5ms/step - loss: 0.0072\n",
      "Epoch: 90\n",
      "83/83 [==============================] - 0s 4ms/step - loss: 0.0072\n",
      "Epoch: 91\n",
      "83/83 [==============================] - 0s 5ms/step - loss: 0.0072\n",
      "Epoch: 92\n",
      "83/83 [==============================] - 0s 5ms/step - loss: 0.0072\n",
      "Epoch: 93\n",
      "83/83 [==============================] - 0s 5ms/step - loss: 0.0072\n",
      "Epoch: 94\n",
      "83/83 [==============================] - 0s 5ms/step - loss: 0.0072\n",
      "Epoch: 95\n",
      "83/83 [==============================] - 0s 5ms/step - loss: 0.0072\n",
      "Epoch: 96\n",
      "83/83 [==============================] - 0s 5ms/step - loss: 0.0071\n",
      "Epoch: 97\n",
      "83/83 [==============================] - 0s 5ms/step - loss: 0.0071\n",
      "Epoch: 98\n",
      "83/83 [==============================] - 0s 4ms/step - loss: 0.0071\n",
      "Epoch: 99\n",
      "83/83 [==============================] - 0s 4ms/step - loss: 0.0071\n",
      "Epoch: 100\n",
      "83/83 [==============================] - 0s 5ms/step - loss: 0.0071\n",
      "Epoch: 101\n",
      "83/83 [==============================] - 0s 5ms/step - loss: 0.0071\n",
      "Epoch: 102\n",
      "83/83 [==============================] - 0s 5ms/step - loss: 0.0071\n",
      "Epoch: 103\n",
      "83/83 [==============================] - 0s 5ms/step - loss: 0.0071\n",
      "Epoch: 104\n",
      "83/83 [==============================] - 0s 5ms/step - loss: 0.0071\n",
      "Epoch: 105\n",
      "83/83 [==============================] - 0s 4ms/step - loss: 0.0071\n",
      "Epoch: 106\n",
      "83/83 [==============================] - 0s 5ms/step - loss: 0.0071\n",
      "Epoch: 107\n",
      "83/83 [==============================] - 0s 5ms/step - loss: 0.0071\n",
      "Epoch: 108\n",
      "83/83 [==============================] - 0s 4ms/step - loss: 0.0071\n",
      "Epoch: 109\n",
      "83/83 [==============================] - 0s 5ms/step - loss: 0.0071\n",
      "Epoch: 110\n",
      "83/83 [==============================] - 0s 5ms/step - loss: 0.0071\n",
      "Epoch: 111\n",
      "83/83 [==============================] - 0s 5ms/step - loss: 0.0071\n",
      "Epoch: 112\n",
      "83/83 [==============================] - 0s 5ms/step - loss: 0.0071\n",
      "Epoch: 113\n",
      "83/83 [==============================] - 0s 5ms/step - loss: 0.0071\n",
      "Epoch: 114\n",
      "83/83 [==============================] - 0s 5ms/step - loss: 0.0071\n",
      "Epoch: 115\n",
      "83/83 [==============================] - 0s 5ms/step - loss: 0.0071\n",
      "Epoch: 116\n",
      "83/83 [==============================] - 0s 5ms/step - loss: 0.0071\n",
      "Epoch: 117\n",
      "83/83 [==============================] - 0s 5ms/step - loss: 0.0070\n",
      "Epoch: 118\n",
      "83/83 [==============================] - 0s 5ms/step - loss: 0.0070\n",
      "Epoch: 119\n",
      "83/83 [==============================] - 0s 5ms/step - loss: 0.0070\n",
      "Epoch: 120\n",
      "83/83 [==============================] - 0s 4ms/step - loss: 0.0070\n",
      "Epoch: 121\n",
      "83/83 [==============================] - 0s 5ms/step - loss: 0.0070\n",
      "Epoch: 122\n",
      "83/83 [==============================] - 0s 5ms/step - loss: 0.0070\n",
      "Epoch: 123\n",
      "83/83 [==============================] - 0s 5ms/step - loss: 0.0070\n",
      "Epoch: 124\n",
      "83/83 [==============================] - 0s 5ms/step - loss: 0.0070\n",
      "Epoch: 125\n",
      "83/83 [==============================] - 0s 5ms/step - loss: 0.0070\n",
      "Epoch: 126\n",
      "83/83 [==============================] - 0s 5ms/step - loss: 0.0070\n",
      "Epoch: 127\n",
      "83/83 [==============================] - 0s 5ms/step - loss: 0.0070\n",
      "Epoch: 128\n",
      "83/83 [==============================] - 0s 5ms/step - loss: 0.0070\n",
      "Epoch: 129\n",
      "83/83 [==============================] - 0s 4ms/step - loss: 0.0070\n",
      "Epoch: 130\n",
      "83/83 [==============================] - 0s 4ms/step - loss: 0.0070\n",
      "Epoch: 131\n",
      "83/83 [==============================] - 0s 5ms/step - loss: 0.0070\n",
      "Epoch: 132\n",
      "83/83 [==============================] - 0s 5ms/step - loss: 0.0070\n",
      "Epoch: 133\n",
      "83/83 [==============================] - 0s 4ms/step - loss: 0.0070\n",
      "Epoch: 134\n",
      "83/83 [==============================] - 0s 5ms/step - loss: 0.0070\n",
      "Epoch: 135\n",
      "83/83 [==============================] - 1s 6ms/step - loss: 0.0070\n",
      "Epoch: 136\n",
      "83/83 [==============================] - 0s 4ms/step - loss: 0.0070\n",
      "Epoch: 137\n",
      "83/83 [==============================] - 0s 4ms/step - loss: 0.0070\n",
      "Epoch: 138\n",
      "83/83 [==============================] - 0s 4ms/step - loss: 0.0070\n",
      "Epoch: 139\n",
      "83/83 [==============================] - 0s 5ms/step - loss: 0.0070\n",
      "Epoch: 140\n",
      "83/83 [==============================] - 0s 5ms/step - loss: 0.0070\n",
      "Epoch: 141\n",
      "83/83 [==============================] - 0s 5ms/step - loss: 0.0070\n",
      "Epoch: 142\n",
      "83/83 [==============================] - 0s 5ms/step - loss: 0.0070\n",
      "Epoch: 143\n",
      "83/83 [==============================] - 0s 5ms/step - loss: 0.0070\n",
      "Epoch: 144\n",
      "83/83 [==============================] - 0s 5ms/step - loss: 0.0070\n",
      "Epoch: 145\n",
      "83/83 [==============================] - 0s 5ms/step - loss: 0.0070\n",
      "Epoch: 146\n",
      "83/83 [==============================] - 0s 5ms/step - loss: 0.0070\n",
      "Epoch: 147\n",
      "83/83 [==============================] - 0s 5ms/step - loss: 0.0070\n",
      "Epoch: 148\n",
      "83/83 [==============================] - 0s 6ms/step - loss: 0.0070\n",
      "Epoch: 149\n",
      "83/83 [==============================] - 0s 4ms/step - loss: 0.0070\n",
      "Epoch: 150\n",
      "83/83 [==============================] - 0s 4ms/step - loss: 0.0070\n",
      "Epoch: 151\n",
      "83/83 [==============================] - 0s 5ms/step - loss: 0.0070\n",
      "Epoch: 152\n",
      "83/83 [==============================] - 0s 5ms/step - loss: 0.0070\n",
      "Epoch: 153\n",
      "83/83 [==============================] - 0s 5ms/step - loss: 0.0070\n",
      "Epoch: 154\n",
      "83/83 [==============================] - 0s 5ms/step - loss: 0.0070\n",
      "Epoch: 155\n",
      "83/83 [==============================] - 0s 5ms/step - loss: 0.0070\n",
      "Epoch: 156\n",
      "83/83 [==============================] - 0s 4ms/step - loss: 0.0070\n",
      "Epoch: 157\n",
      "83/83 [==============================] - 0s 4ms/step - loss: 0.0070\n",
      "Epoch: 158\n",
      "83/83 [==============================] - 0s 5ms/step - loss: 0.0070\n",
      "Epoch: 159\n",
      "83/83 [==============================] - 0s 5ms/step - loss: 0.0070\n",
      "Epoch: 160\n",
      "83/83 [==============================] - 0s 5ms/step - loss: 0.0070\n",
      "Epoch: 161\n",
      "83/83 [==============================] - 0s 4ms/step - loss: 0.0070\n",
      "Epoch: 162\n",
      "83/83 [==============================] - 0s 5ms/step - loss: 0.0070\n",
      "Epoch: 163\n",
      "83/83 [==============================] - 0s 4ms/step - loss: 0.0070\n",
      "Epoch: 164\n",
      "83/83 [==============================] - 0s 5ms/step - loss: 0.0069\n",
      "Epoch: 165\n",
      "83/83 [==============================] - 0s 6ms/step - loss: 0.0069\n",
      "Epoch: 166\n",
      "83/83 [==============================] - 0s 5ms/step - loss: 0.0069\n",
      "Epoch: 167\n",
      "83/83 [==============================] - 0s 4ms/step - loss: 0.0069\n",
      "Epoch: 168\n",
      "83/83 [==============================] - 0s 4ms/step - loss: 0.0069\n",
      "Epoch: 169\n",
      "83/83 [==============================] - 0s 4ms/step - loss: 0.0069\n",
      "Epoch: 170\n",
      "83/83 [==============================] - 0s 4ms/step - loss: 0.0069\n",
      "Epoch: 171\n",
      "83/83 [==============================] - 0s 4ms/step - loss: 0.0069\n",
      "Epoch: 172\n",
      "83/83 [==============================] - 0s 5ms/step - loss: 0.0069\n",
      "Epoch: 173\n",
      "83/83 [==============================] - 0s 5ms/step - loss: 0.0069\n",
      "Epoch: 174\n",
      "83/83 [==============================] - 0s 4ms/step - loss: 0.0069\n",
      "Epoch: 175\n",
      "83/83 [==============================] - 0s 5ms/step - loss: 0.0069\n",
      "Epoch: 176\n",
      "83/83 [==============================] - 0s 4ms/step - loss: 0.0069\n",
      "Epoch: 177\n",
      "83/83 [==============================] - 0s 4ms/step - loss: 0.0069\n",
      "Epoch: 178\n",
      "83/83 [==============================] - 0s 5ms/step - loss: 0.0069\n",
      "Epoch: 179\n",
      "83/83 [==============================] - 0s 5ms/step - loss: 0.0069\n",
      "Epoch: 180\n",
      "83/83 [==============================] - 0s 5ms/step - loss: 0.0069\n",
      "Epoch: 181\n",
      "83/83 [==============================] - 0s 5ms/step - loss: 0.0069\n",
      "Epoch: 182\n",
      "83/83 [==============================] - 0s 5ms/step - loss: 0.0069\n",
      "Epoch: 183\n",
      "83/83 [==============================] - 0s 5ms/step - loss: 0.0069\n",
      "Epoch: 184\n",
      "83/83 [==============================] - 0s 5ms/step - loss: 0.0069\n",
      "Epoch: 185\n",
      "83/83 [==============================] - 0s 5ms/step - loss: 0.0069\n",
      "Epoch: 186\n",
      "83/83 [==============================] - 0s 5ms/step - loss: 0.0069\n",
      "Epoch: 187\n",
      "83/83 [==============================] - 0s 6ms/step - loss: 0.0069\n",
      "Epoch: 188\n",
      "83/83 [==============================] - 1s 7ms/step - loss: 0.0069\n",
      "Epoch: 189\n",
      "83/83 [==============================] - 0s 5ms/step - loss: 0.0069\n",
      "Epoch: 190\n",
      "83/83 [==============================] - 0s 5ms/step - loss: 0.0069\n",
      "Epoch: 191\n",
      "83/83 [==============================] - 0s 5ms/step - loss: 0.0069\n",
      "Epoch: 192\n",
      "83/83 [==============================] - 0s 5ms/step - loss: 0.0069\n",
      "Epoch: 193\n",
      "83/83 [==============================] - 0s 5ms/step - loss: 0.0069\n",
      "Epoch: 194\n",
      "83/83 [==============================] - 1s 6ms/step - loss: 0.0069\n",
      "Epoch: 195\n",
      "83/83 [==============================] - 1s 7ms/step - loss: 0.0069\n",
      "Epoch: 196\n",
      "83/83 [==============================] - 1s 6ms/step - loss: 0.0068\n",
      "Epoch: 197\n",
      "83/83 [==============================] - 1s 6ms/step - loss: 0.0068\n",
      "Epoch: 198\n",
      "83/83 [==============================] - 0s 6ms/step - loss: 0.0068\n",
      "Epoch: 199\n",
      "83/83 [==============================] - 1s 6ms/step - loss: 0.0068\n",
      "Epoch: 200\n",
      "83/83 [==============================] - 0s 5ms/step - loss: 0.0068\n",
      "Epoch: 201\n",
      "83/83 [==============================] - 0s 5ms/step - loss: 0.0068\n",
      "Epoch: 202\n",
      "83/83 [==============================] - 0s 5ms/step - loss: 0.0068\n",
      "Epoch: 203\n",
      "83/83 [==============================] - 0s 6ms/step - loss: 0.0068\n",
      "Epoch: 204\n",
      "83/83 [==============================] - 0s 6ms/step - loss: 0.0068\n",
      "Epoch: 205\n",
      "83/83 [==============================] - 1s 7ms/step - loss: 0.0067\n",
      "Epoch: 206\n",
      "83/83 [==============================] - 0s 5ms/step - loss: 0.0067\n",
      "Epoch: 207\n",
      "83/83 [==============================] - 0s 6ms/step - loss: 0.0067\n",
      "Epoch: 208\n",
      "83/83 [==============================] - 1s 6ms/step - loss: 0.0067\n",
      "Epoch: 209\n",
      "83/83 [==============================] - 0s 5ms/step - loss: 0.0067\n",
      "Epoch: 210\n",
      "83/83 [==============================] - 0s 5ms/step - loss: 0.0067\n",
      "Epoch: 211\n",
      "83/83 [==============================] - 0s 5ms/step - loss: 0.0067\n",
      "Epoch: 212\n",
      "83/83 [==============================] - 0s 5ms/step - loss: 0.0067\n",
      "Epoch: 213\n",
      "83/83 [==============================] - 0s 5ms/step - loss: 0.0067\n",
      "Epoch: 214\n",
      "83/83 [==============================] - 0s 5ms/step - loss: 0.0066\n",
      "Epoch: 215\n",
      "83/83 [==============================] - 0s 5ms/step - loss: 0.0066\n",
      "Epoch: 216\n",
      "83/83 [==============================] - 0s 6ms/step - loss: 0.0066\n",
      "Epoch: 217\n",
      "83/83 [==============================] - 0s 5ms/step - loss: 0.0066\n",
      "Epoch: 218\n",
      "83/83 [==============================] - 0s 5ms/step - loss: 0.0066\n",
      "Epoch: 219\n",
      "83/83 [==============================] - 0s 5ms/step - loss: 0.0066\n",
      "Epoch: 220\n",
      "83/83 [==============================] - 0s 5ms/step - loss: 0.0066\n",
      "Epoch: 221\n",
      "83/83 [==============================] - 0s 5ms/step - loss: 0.0066\n",
      "Epoch: 222\n",
      "83/83 [==============================] - 0s 5ms/step - loss: 0.0066\n",
      "Epoch: 223\n",
      "83/83 [==============================] - 0s 5ms/step - loss: 0.0066\n",
      "Epoch: 224\n",
      "83/83 [==============================] - 0s 5ms/step - loss: 0.0065\n",
      "Epoch: 225\n",
      "83/83 [==============================] - 0s 5ms/step - loss: 0.0065\n",
      "Epoch: 226\n",
      "83/83 [==============================] - 0s 5ms/step - loss: 0.0065\n",
      "Epoch: 227\n",
      "83/83 [==============================] - 0s 5ms/step - loss: 0.0065\n",
      "Epoch: 228\n",
      "83/83 [==============================] - 0s 5ms/step - loss: 0.0065\n",
      "Epoch: 229\n",
      "83/83 [==============================] - 0s 5ms/step - loss: 0.0065\n",
      "Epoch: 230\n",
      "83/83 [==============================] - 0s 5ms/step - loss: 0.0065\n",
      "Epoch: 231\n",
      "83/83 [==============================] - 0s 5ms/step - loss: 0.0065\n",
      "Epoch: 232\n",
      "83/83 [==============================] - 0s 5ms/step - loss: 0.0065\n",
      "Epoch: 233\n",
      "83/83 [==============================] - 0s 5ms/step - loss: 0.0064\n",
      "Epoch: 234\n",
      "83/83 [==============================] - 0s 5ms/step - loss: 0.0064\n",
      "Epoch: 235\n",
      "83/83 [==============================] - 0s 5ms/step - loss: 0.0064\n",
      "Epoch: 236\n",
      "83/83 [==============================] - 0s 5ms/step - loss: 0.0064\n",
      "Epoch: 237\n",
      "83/83 [==============================] - 0s 5ms/step - loss: 0.0064\n",
      "Epoch: 238\n",
      "83/83 [==============================] - 1s 6ms/step - loss: 0.0064\n",
      "Epoch: 239\n",
      "83/83 [==============================] - 0s 6ms/step - loss: 0.0064\n",
      "Epoch: 240\n",
      "83/83 [==============================] - 0s 5ms/step - loss: 0.0064\n",
      "Epoch: 241\n",
      "83/83 [==============================] - 0s 5ms/step - loss: 0.0064\n",
      "Epoch: 242\n",
      "83/83 [==============================] - 0s 5ms/step - loss: 0.0063\n",
      "Epoch: 243\n",
      "83/83 [==============================] - 0s 5ms/step - loss: 0.0063\n",
      "Epoch: 244\n",
      "83/83 [==============================] - 0s 5ms/step - loss: 0.0108\n",
      "Epoch: 245\n",
      "83/83 [==============================] - 0s 4ms/step - loss: 0.0074\n",
      "Epoch: 246\n",
      "83/83 [==============================] - 0s 4ms/step - loss: 0.0064\n",
      "Epoch: 247\n",
      "83/83 [==============================] - 0s 4ms/step - loss: 0.0064\n",
      "Epoch: 248\n",
      "83/83 [==============================] - 0s 5ms/step - loss: 0.0063\n",
      "Epoch: 249\n",
      "83/83 [==============================] - 0s 5ms/step - loss: 0.0063\n",
      "Epoch: 250\n",
      "83/83 [==============================] - 0s 5ms/step - loss: 0.0062\n",
      "Epoch: 251\n",
      "83/83 [==============================] - 0s 5ms/step - loss: 0.0062\n",
      "Epoch: 252\n",
      "83/83 [==============================] - 0s 5ms/step - loss: 0.0062\n",
      "Epoch: 253\n",
      "83/83 [==============================] - 0s 4ms/step - loss: 0.0061\n",
      "Epoch: 254\n",
      "83/83 [==============================] - 0s 5ms/step - loss: 0.0175\n",
      "Epoch: 255\n",
      "83/83 [==============================] - 0s 5ms/step - loss: 0.0247\n",
      "Epoch: 256\n",
      "83/83 [==============================] - 0s 5ms/step - loss: 0.0074\n",
      "Epoch: 257\n",
      "83/83 [==============================] - 0s 5ms/step - loss: 0.0067\n",
      "Epoch: 258\n",
      "83/83 [==============================] - 0s 4ms/step - loss: 0.0065\n",
      "Epoch: 259\n",
      "83/83 [==============================] - 0s 5ms/step - loss: 0.0065\n",
      "Epoch: 260\n",
      "83/83 [==============================] - 0s 5ms/step - loss: 0.0064\n",
      "Epoch: 261\n",
      "83/83 [==============================] - 0s 5ms/step - loss: 0.0064\n",
      "Epoch: 262\n",
      "83/83 [==============================] - 0s 4ms/step - loss: 0.0064\n",
      "Epoch: 263\n",
      "83/83 [==============================] - 0s 4ms/step - loss: 0.0064\n",
      "Epoch: 264\n",
      "83/83 [==============================] - 0s 5ms/step - loss: 0.0064\n",
      "Epoch: 265\n",
      "83/83 [==============================] - 0s 5ms/step - loss: 0.0064\n",
      "Epoch: 266\n",
      "83/83 [==============================] - 0s 5ms/step - loss: 0.0063\n",
      "Epoch: 267\n",
      "83/83 [==============================] - 0s 5ms/step - loss: 0.0063\n",
      "Epoch: 268\n",
      "83/83 [==============================] - 0s 4ms/step - loss: 0.0063\n",
      "Epoch: 269\n",
      "83/83 [==============================] - 0s 4ms/step - loss: 0.0063\n",
      "Epoch: 270\n",
      "83/83 [==============================] - 0s 5ms/step - loss: 0.0063\n",
      "Epoch: 271\n",
      "83/83 [==============================] - 0s 5ms/step - loss: 0.0063\n",
      "Epoch: 272\n",
      "83/83 [==============================] - 0s 4ms/step - loss: 0.0063\n",
      "Epoch: 273\n",
      "83/83 [==============================] - 0s 4ms/step - loss: 0.0063\n",
      "Epoch: 274\n",
      "83/83 [==============================] - 0s 5ms/step - loss: 0.0063\n",
      "Epoch: 275\n",
      "83/83 [==============================] - 0s 5ms/step - loss: 0.0063\n",
      "Epoch: 276\n",
      "83/83 [==============================] - 0s 5ms/step - loss: 0.0063\n",
      "Epoch: 277\n",
      "83/83 [==============================] - 0s 5ms/step - loss: 0.0063\n",
      "Epoch: 278\n",
      "83/83 [==============================] - 0s 5ms/step - loss: 0.0063\n",
      "Epoch: 279\n",
      "83/83 [==============================] - 0s 4ms/step - loss: 0.0063\n",
      "Epoch: 280\n",
      "83/83 [==============================] - 0s 5ms/step - loss: 0.0063\n",
      "Epoch: 281\n",
      "83/83 [==============================] - 0s 4ms/step - loss: 0.0063\n",
      "Epoch: 282\n",
      "83/83 [==============================] - 0s 5ms/step - loss: 0.0063\n",
      "Epoch: 283\n",
      "83/83 [==============================] - 0s 5ms/step - loss: 0.0063\n",
      "Epoch: 284\n",
      "83/83 [==============================] - 0s 4ms/step - loss: 0.0062\n",
      "Epoch: 285\n",
      "83/83 [==============================] - 0s 4ms/step - loss: 0.0062\n",
      "Epoch: 286\n",
      "83/83 [==============================] - 0s 4ms/step - loss: 0.0062\n",
      "Epoch: 287\n",
      "83/83 [==============================] - 0s 4ms/step - loss: 0.0062\n",
      "Epoch: 288\n",
      "83/83 [==============================] - 0s 4ms/step - loss: 0.0062\n",
      "Epoch: 289\n",
      "83/83 [==============================] - 0s 5ms/step - loss: 0.0062\n",
      "Epoch: 290\n",
      "83/83 [==============================] - 0s 4ms/step - loss: 0.0062\n",
      "Epoch: 291\n",
      "83/83 [==============================] - 0s 4ms/step - loss: 0.0062\n",
      "Epoch: 292\n",
      "83/83 [==============================] - 0s 5ms/step - loss: 0.0061\n",
      "Epoch: 293\n",
      "83/83 [==============================] - 0s 4ms/step - loss: 0.0061\n",
      "Epoch: 294\n",
      "83/83 [==============================] - 0s 5ms/step - loss: 0.0061\n",
      "Epoch: 295\n",
      "83/83 [==============================] - 0s 4ms/step - loss: 0.0061\n",
      "Epoch: 296\n",
      "83/83 [==============================] - 0s 5ms/step - loss: 0.0061\n",
      "Epoch: 297\n",
      "83/83 [==============================] - 0s 5ms/step - loss: 0.0061\n",
      "Epoch: 298\n",
      "83/83 [==============================] - 0s 4ms/step - loss: 0.0061\n",
      "Epoch: 299\n",
      "83/83 [==============================] - 0s 5ms/step - loss: 0.0060\n"
     ]
    }
   ],
   "source": [
    "epochs = 300\n",
    "for i in range(epochs):\n",
    "    print(\"Epoch: \" + str(i))\n",
    "    regressor_mse.fit(X_train, y_train, shuffle=False, epochs = 1, batch_size = batch_size)\n",
    "    regressor_mse.reset_states()"
   ]
  },
  {
   "cell_type": "code",
   "execution_count": 36,
   "metadata": {
    "id": "TogI3q-r99eK"
   },
   "outputs": [],
   "source": [
    "import h5py\n",
    "regressor_mse.save(filepath=\"EURUSD_with_mse_30_ts.h5\")"
   ]
  },
  {
   "cell_type": "code",
   "execution_count": 37,
   "metadata": {
    "id": "mgmMZMMC-OzH"
   },
   "outputs": [],
   "source": [
    "regressor_mse = load_model(filepath=\"EURUSD_with_mse_30_ts.h5\")"
   ]
  },
  {
   "cell_type": "code",
   "execution_count": 38,
   "metadata": {
    "id": "rZVbLzak-RTq"
   },
   "outputs": [],
   "source": [
    "predicted_bcg_values_test_mse = regressor_mse.predict(X_test, batch_size=batch_size)\n",
    "regressor_mse.reset_states()\n",
    "\n",
    "predicted_bcg_values_test_mse = np.reshape(predicted_bcg_values_test_mse, \n",
    "                                       (predicted_bcg_values_test_mse.shape[0], \n",
    "                                        predicted_bcg_values_test_mse.shape[1]))\n",
    "predicted_bcg_values_test_mse = sc.inverse_transform(predicted_bcg_values_test_mse)\n",
    "\n",
    "pred_mse = []\n",
    "\n",
    "for j in range(0, testset_length - timesteps):\n",
    "    pred_mse = np.append(pred_mse, predicted_bcg_values_test_mse[j, timesteps-1])\n",
    "\n",
    "pred_mse = np.reshape(pred_mse, (pred_mse.shape[0], 1))"
   ]
  },
  {
   "cell_type": "code",
   "execution_count": 39,
   "metadata": {
    "colab": {
     "base_uri": "https://localhost:8080/",
     "height": 295
    },
    "id": "q7WggGBu-Xr0",
    "outputId": "76b79285-6421-4973-9c65-433729988c94"
   },
   "outputs": [
    {
     "data": {
      "image/png": "[encoded data removed]",
      "text/plain": [
       "<Figure size 432x288 with 1 Axes>"
      ]
     },
     "metadata": {
      "needs_background": "light"
     },
     "output_type": "display_data"
    }
   ],
   "source": [
    "# Visualising the results\n",
    "plt.plot(test_set[timesteps:len(pred_mse)].astype(float), color = 'red', label = 'Real EUR/USD Prices')\n",
    "plt.plot(pred_mse[0:len(pred_mse) - timesteps], color = 'green', label = 'Predicted EUR/USD with MSE')\n",
    "plt.title('EUR/USD Prediction - MSE')\n",
    "plt.xlabel('Time')\n",
    "plt.ylabel('EUR/USD')\n",
    "plt.legend()\n",
    "plt.show()"
   ]
  },
  {
   "cell_type": "code",
   "execution_count": 40,
   "metadata": {
    "colab": {
     "base_uri": "https://localhost:8080/"
    },
    "id": "SrzZJsfl-Z5F",
    "outputId": "aaa5a743-9fed-48e0-e003-895b22c1224f"
   },
   "outputs": [
    {
     "name": "stdout",
     "output_type": "stream",
     "text": [
      "0.0009967059637717593\n"
     ]
    }
   ],
   "source": [
    "from sklearn.metrics import mean_squared_error\n",
    "rmse = math.sqrt(mean_squared_error(test_set[timesteps:len(pred_mse)], pred_mse[0:len(pred_mse) - timesteps]))\n",
    "print(rmse)"
   ]
  },
  {
   "cell_type": "code",
   "execution_count": 41,
   "metadata": {
    "colab": {
     "base_uri": "https://localhost:8080/"
    },
    "id": "7C-JCZub-cpv",
    "outputId": "56c7950d-2806-4d27-cf0d-3963e24f8ac4"
   },
   "outputs": [
    {
     "name": "stdout",
     "output_type": "stream",
     "text": [
      "1.0722227142857144\n"
     ]
    }
   ],
   "source": [
    "mean = np.mean(np.float64(test_set[timesteps:len(pred_mse)]))\n",
    "print(mean)"
   ]
  },
  {
   "cell_type": "code",
   "execution_count": 42,
   "metadata": {
    "colab": {
     "base_uri": "https://localhost:8080/"
    },
    "id": "6UKOeI7b-fI7",
    "outputId": "07d3d0b3-cf9b-49f8-892e-0faa6cc804c9"
   },
   "outputs": [
    {
     "data": {
      "text/plain": [
       "0.09295699023087174"
      ]
     },
     "execution_count": 42,
     "metadata": {},
     "output_type": "execute_result"
    }
   ],
   "source": [
    "rmse/mean * 100"
   ]
  },
  {
   "cell_type": "code",
   "execution_count": 43,
   "metadata": {
    "colab": {
     "base_uri": "https://localhost:8080/"
    },
    "id": "4jHhDnCz-jVA",
    "outputId": "6a3eec71-d1c2-4691-9332-d4107a0da8eb"
   },
   "outputs": [
    {
     "name": "stdout",
     "output_type": "stream",
     "text": [
      "0.0007169133126395032\n"
     ]
    }
   ],
   "source": [
    "from sklearn.metrics import mean_absolute_error\n",
    "mae = mean_absolute_error(test_set[timesteps:len(pred_mse)], pred_mse[0:len(pred_mse) - timesteps])\n",
    "print(mae)"
   ]
  },
  {
   "cell_type": "code",
   "execution_count": 44,
   "metadata": {
    "colab": {
     "base_uri": "https://localhost:8080/"
    },
    "id": "ow5qCkb0-lD4",
    "outputId": "ff5de8d6-7340-47e3-e477-dc65c8cf443a"
   },
   "outputs": [
    {
     "data": {
      "text/plain": [
       "0.0668623508052701"
      ]
     },
     "execution_count": 44,
     "metadata": {},
     "output_type": "execute_result"
    }
   ],
   "source": [
    "mae/mean * 100"
   ]
  },
  {
   "cell_type": "code",
   "execution_count": 45,
   "metadata": {
    "colab": {
     "base_uri": "https://localhost:8080/",
     "height": 295
    },
    "id": "5beXUWWB-m9N",
    "outputId": "fadeabbd-6a36-49be-ad7d-9882afc06cc4"
   },
   "outputs": [
    {
     "data": {
      "image/png": "[encoded data removed]",
      "text/plain": [
       "<Figure size 432x288 with 1 Axes>"
      ]
     },
     "metadata": {
      "needs_background": "light"
     },
     "output_type": "display_data"
    }
   ],
   "source": [
    "import matplotlib.pyplot as plt\n",
    "plt.plot(test_set[timesteps:len(pred_mse)].astype(float), color = 'red', label = 'Real EUR/USD Prices')\n",
    "plt.plot(pred_mse[0:len(pred_mse) - timesteps], color = 'green', label = 'Predicted EUR/USD with MSE')\n",
    "plt.plot(y_test[0:len(y_test) - timesteps].astype(float), color = 'blue', label = 'Predicted EUR/USD with MAE')\n",
    "plt.title('EUR/USD Prediction - MAE v MSE')\n",
    "plt.xlabel('Time')\n",
    "plt.ylabel('EUR/USD')\n",
    "plt.legend()\n",
    "plt.show()"
   ]
  },
  {
   "cell_type": "markdown",
   "metadata": {
    "id": "Jo6aB65WOtyV"
   },
   "source": [
    "## Next: Create and deploy a model endpoint\n"
   ]
  },
  {
   "cell_type": "code",
   "execution_count": 46,
   "metadata": {},
   "outputs": [
    {
     "name": "stdout",
     "output_type": "stream",
     "text": [
      "Requirement already satisfied: yfinance in c:\\users\\greyw\\appdata\\local\\programs\\python\\python310\\lib\\site-packages (0.1.72)\n",
      "Requirement already satisfied: requests>=2.26 in c:\\users\\greyw\\appdata\\local\\programs\\python\\python310\\lib\\site-packages (from yfinance) (2.28.1)\n",
      "Requirement already satisfied: multitasking>=0.0.7 in c:\\users\\greyw\\appdata\\local\\programs\\python\\python310\\lib\\site-packages (from yfinance) (0.0.11)\n",
      "Requirement already satisfied: lxml>=4.5.1 in c:\\users\\greyw\\appdata\\local\\programs\\python\\python310\\lib\\site-packages (from yfinance) (4.9.1)\n",
      "Requirement already satisfied: pandas>=0.24.0 in c:\\users\\greyw\\appdata\\local\\programs\\python\\python310\\lib\\site-packages (from yfinance) (1.4.3)\n",
      "Requirement already satisfied: numpy>=1.15 in c:\\users\\greyw\\appdata\\local\\programs\\python\\python310\\lib\\site-packages (from yfinance) (1.23.0)\n",
      "Requirement already satisfied: python-dateutil>=2.8.1 in c:\\users\\greyw\\appdata\\local\\programs\\python\\python310\\lib\\site-packages (from pandas>=0.24.0->yfinance) (2.8.2)\n",
      "Requirement already satisfied: pytz>=2020.1 in c:\\users\\greyw\\appdata\\local\\programs\\python\\python310\\lib\\site-packages (from pandas>=0.24.0->yfinance) (2022.1)\n",
      "Requirement already satisfied: idna<4,>=2.5 in c:\\users\\greyw\\appdata\\local\\programs\\python\\python310\\lib\\site-packages (from requests>=2.26->yfinance) (3.3)\n",
      "Requirement already satisfied: certifi>=2017.4.17 in c:\\users\\greyw\\appdata\\local\\programs\\python\\python310\\lib\\site-packages (from requests>=2.26->yfinance) (2022.6.15)\n",
      "Requirement already satisfied: charset-normalizer<3,>=2 in c:\\users\\greyw\\appdata\\local\\programs\\python\\python310\\lib\\site-packages (from requests>=2.26->yfinance) (2.1.0)\n",
      "Requirement already satisfied: urllib3<1.27,>=1.21.1 in c:\\users\\greyw\\appdata\\local\\programs\\python\\python310\\lib\\site-packages (from requests>=2.26->yfinance) (1.26.9)\n",
      "Requirement already satisfied: six>=1.5 in c:\\users\\greyw\\appdata\\local\\programs\\python\\python310\\lib\\site-packages (from python-dateutil>=2.8.1->pandas>=0.24.0->yfinance) (1.16.0)\n"
     ]
    }
   ],
   "source": [
    "#Dependencies that only need to be installed once\n",
    "#!pip install yfinance\n",
    "#!pip install prophet \n",
    "#!pip install streamlit"
   ]
  },
  {
   "cell_type": "code",
   "execution_count": 62,
   "metadata": {
    "colab": {
     "base_uri": "https://localhost:8080/"
    },
    "id": "v-05AWUzMjuo",
    "outputId": "4769b0c6-dad4-42f2-e90d-082f046e0f7f"
   },
   "outputs": [
    {
     "name": "stdout",
     "output_type": "stream",
     "text": [
      "Overwriting main.py\n"
     ]
    }
   ],
   "source": [
    "%%writefile main.py\n",
    "#!pip install yfinance\n",
    "#!pip install prophet \n",
    "#!pip install streamlit\n",
    "import json\n",
    "import pandas as pd\n",
    "import numpy as np\n",
    "import types\n",
    "import streamlit as st\n",
    "from datetime import date\n",
    "import yfinance as yf\n",
    "from prophet import Prophet\n",
    "from prophet.plot import plot_plotly\n",
    "from plotly import graph_objs as go\n",
    "import tensorflow as tf\n",
    "from tensorflow import keras\n",
    "from PIL import Image\n",
    "\n",
    "START = \"2021-01-01\"\n",
    "TODAY = date.today().strftime(\"%Y-%m-%d\")\n",
    "\n",
    "image = Image.open(\"ForPredx.png\")\n",
    "st.image(image)\n",
    "st.title(\"ForPredx App\")\n",
    "\n",
    "stocks = (\"EURUSD=X\", \"GBPUSD=X\",\"SGDUSD=X\")\n",
    "selected_stocks= st.selectbox(\"Select currency pair to predict\", stocks)\n",
    "\n",
    "#n_years = st.slider(\"Years of prediction:\", 1, 4)\n",
    "#period = n_years*365\n",
    "\n",
    "#@st.cache\n",
    "def load_data(ticker):\n",
    "    data= yf.download(ticker,START, TODAY)\n",
    "    data.reset_index(inplace=True)\n",
    "    return data\n",
    "\n",
    "data_load_state= st.text(\"Loading in progress...\")\n",
    "data = load_data(selected_stocks)\n",
    "data_load_state.text(\"Loading complete!\")\n",
    "\n",
    "st.subheader('Latest market data for the last 5 days')\n",
    "st.write(data.tail())\n",
    "\n",
    "def plot_raw_data():\n",
    "    fig = go.Figure()\n",
    "    fig.add_trace(go.Scatter(x=data['Date'], y=data['Open'], name='price_open'))\n",
    "    fig.add_trace(go.Scatter(x=data['Date'], y=data['Close'], name='price_close'))\n",
    "    fig.layout.update(title_text=\"Current year trend since 2021\", xaxis_rangeslider_visible=False)\n",
    "    st.plotly_chart(fig)\n",
    "\n",
    "plot_raw_data()\n",
    "\n",
    "#####################################################################################################################\n",
    "#Forecasting with Prophet\n",
    "\n",
    "#df_train=data[['Date','Close']]\n",
    "#df_train=df_train.rename(columns={\"Date\":\"ds\",\"Close\":\"y\"})\n",
    "\n",
    "#m = Prophet()\n",
    "#m.fit(df_train)\n",
    "#future=m.make_future_dataframe(periods=period)\n",
    "#forecast=m.predict(future)\n",
    "\n",
    "#st.subheader('Forecast data using Prophet')\n",
    "#st.write(forecast.tail())\n",
    "\n",
    "#st.write('Forecast Data using Prophet')\n",
    "#fig1=plot_plotly(m, forecast)\n",
    "#st.plotly_chart(fig1)\n",
    "\n",
    "#st.write('forecast components from Prophet')\n",
    "#fig2=m.plot_components(forecast)\n",
    "#st.write(fig2)\n",
    "\n",
    "#####################################################################################################################\n",
    "#####################################################################################################################\n",
    "#Forecast with ForPredx\n",
    "#df_EURUSD = pd.read_csv(\"220524-220607_EURUSD_historical_data.csv\")\n",
    "#df_EURUSD = df_EURUSD[df_EURUSD.CLOSE != \".\"]\n",
    "\n",
    "from datetime import date\n",
    "import math\n",
    "\n",
    "d0 = date(2021, 1, 1)\n",
    "d1 = date.today()\n",
    "\n",
    "delta = d1 - d0\n",
    "\n",
    "df_EURUSD=data[data.Close !=\".\"] \n",
    "df_EURUSD= np.reshape(df_EURUSD,((round(delta.days/1.398)+1), 7))\n",
    "\n",
    "import numpy as np\n",
    "import pandas as pd\n",
    "import matplotlib.pyplot as plt\n",
    "from keras.preprocessing import sequence\n",
    "from keras.models import load_model\n",
    "\n",
    "batch_size = 10\n",
    "epochs = 300\n",
    "timesteps = 5\n",
    "\n",
    "def get_train_length(dataset, batch_size, test_percent):\n",
    "    # substract test_percent to be excluded from training, reserved for testset\n",
    "    length = len(dataset)\n",
    "    length *= 1 - test_percent\n",
    "    train_length_values = []\n",
    "    for x in range(int(length) - 100,int(length)): \n",
    "        modulo=x%batch_size\n",
    "        if (modulo == 0):\n",
    "            train_length_values.append(x)\n",
    "            print(x)\n",
    "    return (max(train_length_values))\n",
    "\n",
    "length = get_train_length(df_EURUSD, batch_size, 0.1)\n",
    "#print(length)\n",
    "\n",
    "#Adding timesteps * 2\n",
    "upper_train = length + timesteps*2\n",
    "df_EURUSD_train = df_EURUSD[0:upper_train]\n",
    "training_set = df_EURUSD_train\n",
    "training_set = df_EURUSD_train.iloc[:,1:2].values\n",
    "#training_set.shape\n",
    "\n",
    "# Feature Scaling\n",
    "#scale between 0 and 1. the weights are easier to find.\n",
    "from sklearn.preprocessing import MinMaxScaler\n",
    "sc = MinMaxScaler(feature_range = (0, 1))\n",
    "training_set_scaled = sc.fit_transform(np.float64(training_set))\n",
    "#training_set_scaled.shape\n",
    "\n",
    "X_train = []\n",
    "y_train = []\n",
    "\n",
    "# Creating a data structure with n timesteps\n",
    "\n",
    "#print(length + timesteps)\n",
    "for i in range(timesteps, length + timesteps): \n",
    "    X_train.append(training_set_scaled[i-timesteps:i,0])\n",
    "    y_train.append(training_set_scaled[i:i+timesteps,0])\n",
    "\n",
    "#print(len(X_train))\n",
    "#print(len(y_train))\n",
    "\n",
    "#create X_train matrix\n",
    "#5 items per array (timestep) \n",
    "print(X_train[0:2])\n",
    "print(np.array(X_train).shape)\n",
    "#create Y_train matrix\n",
    "#5 items per array (timestep) \n",
    "#print(y_train[0:2])\n",
    "#print(np.array(y_train).shape)\n",
    "\n",
    "# Reshaping\n",
    "X_train, y_train = np.array(X_train), np.array(y_train)\n",
    "X_train = np.reshape(X_train, (X_train.shape[0], X_train.shape[1], 1))\n",
    "y_train = np.reshape(y_train, (y_train.shape[0], y_train.shape[1], 1))\n",
    "#print(X_train.shape)\n",
    "#print(y_train.shape)\n",
    "\n",
    "# Building the LSTM\n",
    "# Importing the Keras libraries and packages\n",
    "\n",
    "from keras.layers import Dense\n",
    "from keras.layers import Input, LSTM\n",
    "from keras.models import Model\n",
    "import h5py\n",
    "\n",
    "# Initialising the LSTM Model with MSE Loss Function\n",
    "\n",
    "inputs_1_mse = Input(batch_shape=(batch_size,timesteps,1))\n",
    "lstm_1_mse = LSTM(10, stateful=True, return_sequences=True)(inputs_1_mse)\n",
    "lstm_2_mse = LSTM(10, stateful=True, return_sequences=True)(lstm_1_mse)\n",
    "\n",
    "output_1_mse = Dense(units = 1)(lstm_2_mse)\n",
    "\n",
    "regressor_mse = Model(inputs=inputs_1_mse, outputs = output_1_mse)\n",
    "\n",
    "#mse -> mean squared error as loss function\n",
    "regressor_mse.compile(optimizer='adam', loss = 'mse')\n",
    "regressor_mse.summary()\n",
    "\n",
    "import tensorflow as tf\n",
    "from keras import backend as K\n",
    "\n",
    "K.set_session(K.tf.compat.v1.Session(config=K.tf.compat.v1.ConfigProto(intra_op_parallelism_threads=1, inter_op_parallelism_threads=1)))\n",
    "\n",
    "#Stateful\n",
    "epochs = 300\n",
    "for i in range(epochs):\n",
    "    print(\"Epoch: \" + str(i))\n",
    "    regressor_mse.fit(X_train, y_train, shuffle=False, epochs = 1, batch_size = batch_size)\n",
    "    regressor_mse.reset_states()\n",
    "    \n",
    "#Stateless\n",
    "#between the batches the cell and hidden states are lost.\n",
    "#regressor_mae.fit(X_train, y_train, shuffle=False, epochs = epochs, batch_size = batch_size)\n",
    "\n",
    "#save model\n",
    "import h5py\n",
    "regressor_mse.save(filepath=\"EURUSD_with_mse_30_ts.h5\")\n",
    "\n",
    "#load model\n",
    "import h5py\n",
    "regressor_mse = load_model(filepath=\"EURUSD_with_mse_30_ts.h5\")\n",
    "\n",
    "def get_test_length(dataset, batch_size):\n",
    "    \n",
    "    test_length_values = []\n",
    "    for x in range(len(dataset) - 200, len(dataset) - timesteps*2): \n",
    "        modulo=(x-upper_train)%batch_size\n",
    "        if (modulo == 0):\n",
    "            test_length_values.append(x)\n",
    "            print(x)\n",
    "    return (max(test_length_values))\n",
    "\n",
    "test_length = get_test_length(df_EURUSD, batch_size)\n",
    "print(test_length)\n",
    "upper_test = test_length + timesteps*2\n",
    "testset_length = test_length - upper_train\n",
    "#print(testset_length)\n",
    "\n",
    "#print(upper_train, upper_test, len(df_EURUSD))\n",
    "\n",
    "# construct test set\n",
    "\n",
    "#subsetting\n",
    "df_EURUSD_test = df_EURUSD[upper_train:upper_test] \n",
    "test_set = df_EURUSD_test.iloc[:,1:2].values\n",
    "\n",
    "#scaling\n",
    "scaled_real_bcg_values_test = sc.fit_transform(np.float64(test_set))\n",
    "\n",
    "#creating input data\n",
    "X_test = []\n",
    "for i in range(timesteps, testset_length + timesteps):\n",
    "    X_test.append(scaled_real_bcg_values_test[i-timesteps:i, 0])\n",
    "X_test = np.array(X_test)\n",
    "\n",
    "#reshaping\n",
    "X_test = np.reshape(X_test, (X_test.shape[0], X_test.shape[1], 1))\n",
    "\n",
    "#print(X_test)\n",
    "#X_test.shape\n",
    "\n",
    "#prediction\n",
    "predicted_bcg_values_test_mse = regressor_mse.predict(X_test, batch_size=batch_size)\n",
    "regressor_mse.reset_states()\n",
    "\n",
    "predicted_bcg_values_test_mse = np.reshape(predicted_bcg_values_test_mse, \n",
    "                                       (predicted_bcg_values_test_mse.shape[0], \n",
    "                                        predicted_bcg_values_test_mse.shape[1]))\n",
    "predicted_bcg_values_test_mse = sc.inverse_transform(predicted_bcg_values_test_mse)\n",
    "\n",
    "pred_mse = []\n",
    "\n",
    "for j in range(0, testset_length - timesteps):\n",
    "    pred_mse = np.append(pred_mse, predicted_bcg_values_test_mse[j, timesteps-1])\n",
    "\n",
    "pred_mse = np.reshape(pred_mse, (pred_mse.shape[0], 1))\n",
    "\n",
    "# Visualising the results\n",
    "plt.plot(test_set[timesteps:len(pred_mse)].astype(float), color = 'red', label = 'Real EUR/USD Prices')\n",
    "plt.plot(pred_mse[0:len(pred_mse) - timesteps], color = 'green', label = 'Predicted EUR/USD with MSE')\n",
    "plt.title('EUR/USD Prediction - MSE')\n",
    "plt.xlabel('Time')\n",
    "plt.ylabel('EUR/USD')\n",
    "plt.legend()\n",
    "plt.show()\n",
    "\n",
    "#The plot\n",
    "import plotly.express as px\n",
    "\n",
    "st.subheader(\"Predicted FX Prices using ForPredx\")\n",
    "def plot_predicted_data():\n",
    "    df1 = pd.DataFrame(pred_mse)\n",
    "    df1 = df1.tail(5)\n",
    "    fig4 = px.line(df1, x=df1.index, y=0, title='Predicted FX Prices for the next 5 days')\n",
    "    fig4.layout.update(title_text=\"Predicted FX Prices for the next 5 days\", xaxis_rangeslider_visible=False)\n",
    "    st.plotly_chart(fig4)\n",
    "\n",
    "plot_predicted_data()\n",
    "\n",
    "df1 = pd.DataFrame(pred_mse)\n",
    "df1=df1.tail(5)\n",
    "df1"
   ]
  },
  {
   "cell_type": "markdown",
   "metadata": {},
   "source": [
    "<h1> Enter \"streamlit run main.py\" in cmd or run the cell below to start ForPredx"
   ]
  },
  {
   "cell_type": "code",
   "execution_count": 52,
   "metadata": {},
   "outputs": [
    {
     "name": "stdout",
     "output_type": "stream",
     "text": [
      "^C\n"
     ]
    }
   ],
   "source": [
    "!streamlit run main.py"
   ]
  }
 ],
 "metadata": {
  "colab": {
   "collapsed_sections": [],
   "name": "ICT619 Artificial Intelligence Assignment and Project - EUR/USD Prediction Model.ipynb",
   "provenance": []
  },
  "kernelspec": {
   "display_name": "Python 3",
   "language": "python",
   "name": "python3"
  },
  "language_info": {
   "codemirror_mode": {
    "name": "ipython",
    "version": 3
   },
   "file_extension": ".py",
   "mimetype": "text/x-python",
   "name": "python",
   "nbconvert_exporter": "python",
   "pygments_lexer": "ipython3",
   "version": "3.9.6"
  }
 },
 "nbformat": 4,
 "nbformat_minor": 4
}
